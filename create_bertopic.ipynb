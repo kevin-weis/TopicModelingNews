{
 "cells": [
  {
   "cell_type": "code",
   "execution_count": 43,
   "metadata": {},
   "outputs": [
    {
     "name": "stderr",
     "output_type": "stream",
     "text": [
      "[nltk_data] Downloading package stopwords to\n",
      "[nltk_data]     /Users/kevinweiskirch/nltk_data...\n",
      "[nltk_data]   Package stopwords is already up-to-date!\n",
      "[nltk_data] Downloading package wordnet to\n",
      "[nltk_data]     /Users/kevinweiskirch/nltk_data...\n",
      "[nltk_data]   Package wordnet is already up-to-date!\n"
     ]
    }
   ],
   "source": [
    "import pandas as pd\n",
    "import numpy as np\n",
    "\n",
    "import matplotlib.pyplot as plt\n",
    "import seaborn as sns\n",
    "sns.set_context('notebook')\n",
    "sns.set_style('darkgrid')\n",
    "sns.set_palette('viridis')\n",
    "\n",
    "from bertopic import BERTopic\n",
    "\n",
    "from nltk.corpus import stopwords\n",
    "import nltk\n",
    "nltk.download('stopwords')\n",
    "nltk.download('wordnet')\n",
    "from nltk.tokenize import word_tokenize\n",
    "from nltk.stem import WordNetLemmatizer\n",
    "\n",
    "import re\n",
    "\n",
    "from tqdm import tqdm\n",
    "tqdm.pandas()\n",
    "\n"
   ]
  },
  {
   "cell_type": "code",
   "execution_count": 11,
   "metadata": {},
   "outputs": [],
   "source": [
    "df = pd.read_excel('final_corpus.xlsx', index_col=[0])"
   ]
  },
  {
   "cell_type": "code",
   "execution_count": 12,
   "metadata": {},
   "outputs": [
    {
     "data": {
      "text/html": [
       "<div>\n",
       "<style scoped>\n",
       "    .dataframe tbody tr th:only-of-type {\n",
       "        vertical-align: middle;\n",
       "    }\n",
       "\n",
       "    .dataframe tbody tr th {\n",
       "        vertical-align: top;\n",
       "    }\n",
       "\n",
       "    .dataframe thead th {\n",
       "        text-align: right;\n",
       "    }\n",
       "</style>\n",
       "<table border=\"1\" class=\"dataframe\">\n",
       "  <thead>\n",
       "    <tr style=\"text-align: right;\">\n",
       "      <th></th>\n",
       "      <th>index</th>\n",
       "      <th>description</th>\n",
       "      <th>keywords</th>\n",
       "      <th>section</th>\n",
       "      <th>source</th>\n",
       "      <th>title</th>\n",
       "      <th>url</th>\n",
       "      <th>f_dates</th>\n",
       "      <th>missing_texts</th>\n",
       "      <th>filenames</th>\n",
       "    </tr>\n",
       "  </thead>\n",
       "  <tbody>\n",
       "    <tr>\n",
       "      <th>2</th>\n",
       "      <td>2</td>\n",
       "      <td>View updated wildfire maps and the latest air ...</td>\n",
       "      <td>keywords not available for this source</td>\n",
       "      <td>NaN</td>\n",
       "      <td>CNN</td>\n",
       "      <td>Wildfire map and air quality tracker</td>\n",
       "      <td>https://www.cnn.com/interactive/2020/weather/w...</td>\n",
       "      <td>2020-09-14</td>\n",
       "      <td>Air quality\\n\\nWildfire smoke creates fine par...</td>\n",
       "      <td>Speech_2.txt</td>\n",
       "    </tr>\n",
       "    <tr>\n",
       "      <th>3</th>\n",
       "      <td>3</td>\n",
       "      <td>Track the latest severe storm activity with CN...</td>\n",
       "      <td>keywords not available for this source</td>\n",
       "      <td>NaN</td>\n",
       "      <td>CNN</td>\n",
       "      <td>CNN Storm Tracker</td>\n",
       "      <td>https://www.cnn.com/interactive/storm-tracker/</td>\n",
       "      <td>2020-01-01</td>\n",
       "      <td>Tracking severe weather\\n\\nLoading interactive...</td>\n",
       "      <td>Speech_3.txt</td>\n",
       "    </tr>\n",
       "  </tbody>\n",
       "</table>\n",
       "</div>"
      ],
      "text/plain": [
       "   index                                        description  \\\n",
       "2      2  View updated wildfire maps and the latest air ...   \n",
       "3      3  Track the latest severe storm activity with CN...   \n",
       "\n",
       "                                 keywords section source  \\\n",
       "2  keywords not available for this source     NaN    CNN   \n",
       "3  keywords not available for this source     NaN    CNN   \n",
       "\n",
       "                                  title  \\\n",
       "2  Wildfire map and air quality tracker   \n",
       "3                     CNN Storm Tracker   \n",
       "\n",
       "                                                 url    f_dates  \\\n",
       "2  https://www.cnn.com/interactive/2020/weather/w... 2020-09-14   \n",
       "3     https://www.cnn.com/interactive/storm-tracker/ 2020-01-01   \n",
       "\n",
       "                                       missing_texts     filenames  \n",
       "2  Air quality\\n\\nWildfire smoke creates fine par...  Speech_2.txt  \n",
       "3  Tracking severe weather\\n\\nLoading interactive...  Speech_3.txt  "
      ]
     },
     "execution_count": 12,
     "metadata": {},
     "output_type": "execute_result"
    }
   ],
   "source": [
    "df.head(2)"
   ]
  },
  {
   "cell_type": "code",
   "execution_count": 13,
   "metadata": {},
   "outputs": [],
   "source": [
    "df.rename({'f_dates': 'Date', 'missing_texts': \"Text\"}, axis=1, inplace=True)"
   ]
  },
  {
   "cell_type": "code",
   "execution_count": 38,
   "metadata": {},
   "outputs": [
    {
     "data": {
      "text/plain": [
       "(29805, 14)"
      ]
     },
     "execution_count": 38,
     "metadata": {},
     "output_type": "execute_result"
    }
   ],
   "source": [
    "template_text = df['Text'].value_counts()[0]\n",
    "df = df[df['Text'] != template_text]\n",
    "df.shape"
   ]
  },
  {
   "cell_type": "code",
   "execution_count": 70,
   "metadata": {},
   "outputs": [
    {
     "data": {
      "text/plain": [
       "(28586, 14)"
      ]
     },
     "execution_count": 70,
     "metadata": {},
     "output_type": "execute_result"
    }
   ],
   "source": [
    "top_texts = df['Text'].value_counts().to_frame()\n",
    "top_texts.reset_index(inplace=True)\n",
    "top_texts.rename({'index': \"text\", 'Text': 'count'}, axis=1, inplace=True)\n",
    "\n",
    "texts_to_drop = list(top_texts['text'][0:7].values)\n",
    "df = df[~df['Text'].isin(texts_to_drop)]\n",
    "df.shape"
   ]
  },
  {
   "cell_type": "code",
   "execution_count": 157,
   "metadata": {},
   "outputs": [
    {
     "name": "stderr",
     "output_type": "stream",
     "text": [
      "100%|██████████| 28586/28586 [00:01<00:00, 21437.03it/s]\n"
     ]
    }
   ],
   "source": [
    "def remove_templates(text):\n",
    "    text = str(text)    \n",
    "\n",
    "    text = text.replace(\"All quotes delayed a minimum of 15 minutes.\", \" \")\n",
    "    text = text.replace(\"Discover Thomson Reuters, By\", \" \")\n",
    "    text = text.replace('Discover Thomson Reuters', \" \")\n",
    "    text = text.replace(\"Min Read\", \" \" )\n",
    "    text = text.replace(\" By, \", \" \")\n",
    "    text = text.replace(\"See , of exchanges and delays.'\", \" \" )\n",
    "    text  = text.replace(\"Reuters provides business, financial, national and international news to professionals via desktop terminals, the world's media organizations, industry events and directly to consumers\", \" \")\n",
    "    text = text.replace(\"Build the strongest argument relying on authoritative content, attorney-editor expertise, and industry defining technology\", \" \")\n",
    "    text = text.replace(\"The most comprehensive solution to manage all your complex and ever-expanding tax and compliance needs\", \" \")\n",
    "    text = text.replace(\"The industry leader for online information for tax, accounting and finance professionals\", \" \")\n",
    "    text = text.replace(\"Access unmatched financial data, news and content in a highly-customised workflow experience on desktop, web and mobile\", \" \")\n",
    "    text = text.replace(\"Browse an unrivalled portfolio of real-time and historical market data and insights from worldwide sources and expert.\", \" \")\n",
    "    text = text.replace(\"Screen for heightened risk individual and entities globally to help uncover hidden risks in business relationships and human networks\", \" \")\n",
    "    text = text.replace(\"of exchanges and delays\", \" \")\n",
    "    text = text.replace(\"Reuters, the news and media division of\", \" \")\n",
    "    text = text.replace(\"Thomson Reuters, is the world’s largest multimedia news provider, reaching billions of people worldwide every day\", \" \")\n",
    "    text = text.replace(\"is the world’s largest multimedia news provider, reaching billions of people worldwide every day\", \" \")\n",
    "    text = text.replace(\"delayed by at least 15 minutes\", \" \")\n",
    "    return text\n",
    "\n",
    "\n",
    "df['Text'] = df['Text'].progress_apply(remove_templates)"
   ]
  },
  {
   "cell_type": "code",
   "execution_count": 158,
   "metadata": {},
   "outputs": [
    {
     "data": {
      "text/plain": [
       "(28586, 14)"
      ]
     },
     "execution_count": 158,
     "metadata": {},
     "output_type": "execute_result"
    }
   ],
   "source": [
    "df = df.dropna(subset='Date')\n",
    "df.shape"
   ]
  },
  {
   "cell_type": "code",
   "execution_count": 159,
   "metadata": {},
   "outputs": [],
   "source": [
    "df['Year'] = df['Date'].dt.to_period(\"Y\").astype(str)\n",
    "df['Month'] = df['Date'].dt.to_period(\"M\").astype(str)\n",
    "df['Week'] = df['Date'].dt.to_period(\"W\").astype(str)"
   ]
  },
  {
   "cell_type": "code",
   "execution_count": 160,
   "metadata": {},
   "outputs": [
    {
     "data": {
      "image/png": "[encoded data removed]",
      "text/plain": [
       "<Figure size 640x480 with 1 Axes>"
      ]
     },
     "metadata": {},
     "output_type": "display_data"
    }
   ],
   "source": [
    "df = df.sort_values(by='Date')\n",
    "df_2010s = df[df['Year'] >= '2010']\n",
    "sns.countplot(data=df_2010s, x='Year')\n",
    "plt.xticks(rotation=45)\n",
    "plt.show()"
   ]
  },
  {
   "cell_type": "code",
   "execution_count": 161,
   "metadata": {},
   "outputs": [
    {
     "data": {
      "image/png": "[encoded data removed]",
      "text/plain": [
       "<Figure size 640x480 with 1 Axes>"
      ]
     },
     "metadata": {},
     "output_type": "display_data"
    }
   ],
   "source": [
    "sns.countplot(data=df, x='source', order=df['source'].value_counts().index)\n",
    "plt.title('Count of Each Source')\n",
    "plt.xlabel(\"Count of Articles\")\n",
    "plt.ylabel(\"Source\", fontsize='large')\n",
    "plt.yticks(fontsize='small')\n",
    "plt.show()"
   ]
  },
  {
   "cell_type": "code",
   "execution_count": 162,
   "metadata": {},
   "outputs": [
    {
     "name": "stdout",
     "output_type": "stream",
     "text": [
      "['i', 'me', 'my', 'myself', 'we', 'our', 'ours', 'ourselves', 'you', \"you're\", \"you've\", \"you'll\", \"you'd\", 'your', 'yours', 'yourself', 'yourselves', 'he', 'him', 'his', 'himself', 'she', \"she's\", 'her', 'hers', 'herself', 'it', \"it's\", 'its', 'itself', 'they', 'them', 'their', 'theirs', 'themselves', 'what', 'which', 'who', 'whom', 'this', 'that', \"that'll\", 'these', 'those', 'am', 'is', 'are', 'was', 'were', 'be', 'been', 'being', 'have', 'has', 'had', 'having', 'do', 'does', 'did', 'doing', 'a', 'an', 'the', 'and', 'but', 'if', 'or', 'because', 'as', 'until', 'while', 'of', 'at', 'by', 'for', 'with', 'about', 'against', 'between', 'into', 'through', 'during', 'before', 'after', 'above', 'below', 'to', 'from', 'up', 'down', 'in', 'out', 'on', 'off', 'over', 'under', 'again', 'further', 'then', 'once', 'here', 'there', 'when', 'where', 'why', 'how', 'all', 'any', 'both', 'each', 'few', 'more', 'most', 'other', 'some', 'such', 'no', 'nor', 'not', 'only', 'own', 'same', 'so', 'than', 'too', 'very', 's', 't', 'can', 'will', 'just', 'don', \"don't\", 'should', \"should've\", 'now', 'd', 'll', 'm', 'o', 're', 've', 'y', 'ain', 'aren', \"aren't\", 'couldn', \"couldn't\", 'didn', \"didn't\", 'doesn', \"doesn't\", 'hadn', \"hadn't\", 'hasn', \"hasn't\", 'haven', \"haven't\", 'isn', \"isn't\", 'ma', 'mightn', \"mightn't\", 'mustn', \"mustn't\", 'needn', \"needn't\", 'shan', \"shan't\", 'shouldn', \"shouldn't\", 'wasn', \"wasn't\", 'weren', \"weren't\", 'won', \"won't\", 'wouldn', \"wouldn't\", 'delayed', 'delayed', 'delay', 'delayed', 'minimums', 'minimum', 'minimums', 'minimums', '15', '15', '15', '15', 'minutes', 'minute', 'minutes', 'minutes', 'news', 'news', 'news', 'news', 'via', 'via', 'via', 'via', 'desktops', 'desktop', 'desktops', 'desktops', 'multimedia', 'multimedia', 'multimedia', 'multimedia', 'providers', 'provider', 'providers', 'providers', 'reuters', 'reuters', 'reuters', 'reuters', 'reaching', 'reaching', 'reach', 'reaching', 'thomsom', 'thomsom', 'thomsom', 'thomsom', 'worldwide', 'worldwide', 'worldwide', 'worldwide', 'terminals', 'terminal', 'terminals', 'terminals', 'mediums', 'medium', 'mediums', 'mediums', 'organizations', 'organization', 'organizations', 'organizations', 'events', 'event', 'events', 'events', 'people', 'people', 'people', 'people', 'professionals', 'professional', 'professionals', 'professionals', 'businesses', 'business', 'businesses', 'businesses']\n"
     ]
    },
    {
     "name": "stderr",
     "output_type": "stream",
     "text": [
      "100%|██████████| 28586/28586 [00:23<00:00, 1237.09it/s]\n"
     ]
    }
   ],
   "source": [
    "stop = stopwords.words('english')\n",
    "additional_stops = ['delayed', 'minimums', '15', 'minutes', 'news', 'via', 'desktops',\n",
    "                    'multimedia', 'providers', 'reuters', 'reaching', 'thomsom',\n",
    "                    'worldwide', 'terminals', 'mediums', 'organizations', 'events',\n",
    "                    'people', 'professionals', 'businesses']\n",
    "for word in additional_stops:\n",
    "    stop.append(word)\n",
    "    wnl = WordNetLemmatizer()\n",
    "    lemmatized_noun = wnl.lemmatize(str(word), pos='n')\n",
    "    lemmatized_verb = wnl.lemmatize(str(word), pos='v')\n",
    "    lemmatized_adj = wnl.lemmatize(str(word), pos='a')\n",
    "    stop.append(lemmatized_noun)\n",
    "    stop.append(lemmatized_verb)\n",
    "    stop.append(lemmatized_adj)\n",
    "print(stop)\n",
    "\n",
    "df['cleaned_full_text'] = df['Text'].progress_apply(lambda x: \" \".join([word.lower() for word in str(x).split() if word not in stop]))"
   ]
  },
  {
   "cell_type": "code",
   "execution_count": 171,
   "metadata": {},
   "outputs": [],
   "source": [
    "corpus = df['cleaned_full_text'].to_list()\n",
    "assert(len(corpus) == df.shape[0])"
   ]
  },
  {
   "cell_type": "code",
   "execution_count": 163,
   "metadata": {},
   "outputs": [],
   "source": [
    "def trigram_clean(text):\n",
    "    wnl = WordNetLemmatizer()\n",
    "    text = text.lower()\n",
    "    words = re.sub(r'[^\\w\\s]', '', text).split()\n",
    "    allwords = [wnl.lemmatize(word) for word in words if word not in stop]\n",
    "    return allwords"
   ]
  },
  {
   "cell_type": "code",
   "execution_count": 164,
   "metadata": {},
   "outputs": [],
   "source": [
    "def make_ngrams(allwords, n):\n",
    "    n_grams = pd.DataFrame({\n",
    "        \"n_gram\": (pd.Series(nltk.ngrams(allwords, n)).value_counts().index),\n",
    "        \"value_counts\": (pd.Series(nltk.ngrams(allwords, n)).value_counts())\n",
    "    })\n",
    "    return n_grams"
   ]
  },
  {
   "cell_type": "code",
   "execution_count": 165,
   "metadata": {},
   "outputs": [],
   "source": [
    "allwords = trigram_clean(\"\".join(str(df['cleaned_full_text'].tolist())))\n"
   ]
  },
  {
   "cell_type": "code",
   "execution_count": 166,
   "metadata": {},
   "outputs": [],
   "source": [
    "all_trigrams = make_ngrams(allwords, 3)\n"
   ]
  },
  {
   "cell_type": "code",
   "execution_count": 167,
   "metadata": {},
   "outputs": [
    {
     "data": {
      "image/png": "[encoded data removed]",
      "text/plain": [
       "<Figure size 640x480 with 1 Axes>"
      ]
     },
     "metadata": {},
     "output_type": "display_data"
    }
   ],
   "source": [
    "top_trigrams_all_corpus = all_trigrams.iloc[:20]\n",
    "sns.barplot(data=top_trigrams_all_corpus, y='n_gram', x='value_counts')\n",
    "plt.show()"
   ]
  },
  {
   "cell_type": "code",
   "execution_count": 172,
   "metadata": {},
   "outputs": [
    {
     "name": "stderr",
     "output_type": "stream",
     "text": [
      "Batches: 100%|██████████| 894/894 [13:23<00:00,  1.11it/s]\n",
      "2023-01-15 13:23:06,630 - BERTopic - Transformed documents to Embeddings\n",
      "OMP: Info #276: omp_set_nested routine deprecated, please use omp_set_max_active_levels instead.\n",
      "2023-01-15 13:23:26,273 - BERTopic - Reduced dimensionality\n"
     ]
    },
    {
     "name": "stdout",
     "output_type": "stream",
     "text": [
      "huggingface/tokenizers: The current process just got forked, after parallelism has already been used. Disabling parallelism to avoid deadlocks...\n",
      "huggingface/tokenizers: The current process just got forked, after parallelism has already been used. Disabling parallelism to avoid deadlocks...\n",
      "To disable this warning, you can either:\n",
      "To disable this warning, you can either:\n",
      "\t- Avoid using `tokenizers` before the fork if possible\n",
      "\t- Avoid using `tokenizers` before the fork if possible\n",
      "\t- Explicitly set the environment variable TOKENIZERS_PARALLELISM=(true | false)\n",
      "huggingface/tokenizers: The current process just got forked, after parallelism has already been used. Disabling parallelism to avoid deadlocks...\n",
      "To disable this warning, you can either:\n",
      "\t- Avoid using `tokenizers` before the fork if possible\n",
      "\t- Explicitly set the environment variable TOKENIZERS_PARALLELISM=(true | false)\n",
      "huggingface/tokenizers: The current process just got forked, after parallelism has already been used. Disabling parallelism to avoid deadlocks...\n",
      "To disable this warning, you can either:\n",
      "\t- Avoid using `tokenizers` before the fork if possible\n",
      "\t- Explicitly set the environment variable TOKENIZERS_PARALLELISM=(true | false)\n",
      "\t- Explicitly set the environment variable TOKENIZERS_PARALLELISM=(true | false)\n",
      "huggingface/tokenizers: The current process just got forked, after parallelism has already been used. Disabling parallelism to avoid deadlocks...\n",
      "To disable this warning, you can either:\n",
      "\t- Avoid using `tokenizers` before the fork if possible\n",
      "\t- Explicitly set the environment variable TOKENIZERS_PARALLELISM=(true | false)\n"
     ]
    },
    {
     "name": "stderr",
     "output_type": "stream",
     "text": [
      "2023-01-15 13:23:28,062 - BERTopic - Clustered reduced embeddings\n",
      "2023-01-15 14:37:07,728 - BERTopic - Reduced number of topics from 196 to 26\n"
     ]
    }
   ],
   "source": [
    "topic_model_all_corpus = BERTopic(verbose=True, diversity=.25, n_gram_range=(1,5),\n",
    "                        min_topic_size=25, nr_topics=25)\n",
    "topics_all, probs_all = topic_model_all_corpus.fit_transform(corpus)\n"
   ]
  },
  {
   "cell_type": "code",
   "execution_count": 173,
   "metadata": {},
   "outputs": [
    {
     "name": "stderr",
     "output_type": "stream",
     "text": [
      "/Users/kevinweiskirch/opt/anaconda3/envs/NLP/lib/python3.10/site-packages/scipy/sparse/_index.py:146: SparseEfficiencyWarning: Changing the sparsity structure of a csr_matrix is expensive. lil_matrix is more efficient.\n",
      "  self._set_arrayXarray(i, j, x)\n"
     ]
    }
   ],
   "source": [
    "topic_model_all_corpus.save('TopicModelAllCorpus.model')"
   ]
  },
  {
   "cell_type": "code",
   "execution_count": 174,
   "metadata": {},
   "outputs": [
    {
     "data": {
      "text/html": [
       "<div>\n",
       "<style scoped>\n",
       "    .dataframe tbody tr th:only-of-type {\n",
       "        vertical-align: middle;\n",
       "    }\n",
       "\n",
       "    .dataframe tbody tr th {\n",
       "        vertical-align: top;\n",
       "    }\n",
       "\n",
       "    .dataframe thead th {\n",
       "        text-align: right;\n",
       "    }\n",
       "</style>\n",
       "<table border=\"1\" class=\"dataframe\">\n",
       "  <thead>\n",
       "    <tr style=\"text-align: right;\">\n",
       "      <th></th>\n",
       "      <th>Topic</th>\n",
       "      <th>Count</th>\n",
       "      <th>Name</th>\n",
       "    </tr>\n",
       "  </thead>\n",
       "  <tbody>\n",
       "    <tr>\n",
       "      <th>0</th>\n",
       "      <td>-1</td>\n",
       "      <td>16883</td>\n",
       "      <td>-1_new_trump_president_two</td>\n",
       "    </tr>\n",
       "    <tr>\n",
       "      <th>1</th>\n",
       "      <td>0</td>\n",
       "      <td>2223</td>\n",
       "      <td>0_2015_our top photos_photos last_photos last 24</td>\n",
       "    </tr>\n",
       "    <tr>\n",
       "      <th>2</th>\n",
       "      <td>1</td>\n",
       "      <td>997</td>\n",
       "      <td>1_economy_stocks_markets_chinese</td>\n",
       "    </tr>\n",
       "    <tr>\n",
       "      <th>3</th>\n",
       "      <td>2</td>\n",
       "      <td>809</td>\n",
       "      <td>2_russian_ukraine_ukrainian_putin</td>\n",
       "    </tr>\n",
       "    <tr>\n",
       "      <th>4</th>\n",
       "      <td>3</td>\n",
       "      <td>695</td>\n",
       "      <td>3_time_movie_actor_also</td>\n",
       "    </tr>\n",
       "    <tr>\n",
       "      <th>5</th>\n",
       "      <td>4</td>\n",
       "      <td>626</td>\n",
       "      <td>4_oil_prices_reuters_russia</td>\n",
       "    </tr>\n",
       "    <tr>\n",
       "      <th>6</th>\n",
       "      <td>5</td>\n",
       "      <td>588</td>\n",
       "      <td>5_how this beach name nan_this beach name nan ...</td>\n",
       "    </tr>\n",
       "    <tr>\n",
       "      <th>7</th>\n",
       "      <td>6</td>\n",
       "      <td>439</td>\n",
       "      <td>6_olympic_olympics_womens_athletes</td>\n",
       "    </tr>\n",
       "    <tr>\n",
       "      <th>8</th>\n",
       "      <td>7</td>\n",
       "      <td>426</td>\n",
       "      <td>7_tesla_musk_cars_billion</td>\n",
       "    </tr>\n",
       "    <tr>\n",
       "      <th>9</th>\n",
       "      <td>8</td>\n",
       "      <td>420</td>\n",
       "      <td>8_immigration_children_trump_immigrants</td>\n",
       "    </tr>\n",
       "    <tr>\n",
       "      <th>10</th>\n",
       "      <td>9</td>\n",
       "      <td>393</td>\n",
       "      <td>9_vaccine_vaccines_covid19_vaccinated</td>\n",
       "    </tr>\n",
       "    <tr>\n",
       "      <th>11</th>\n",
       "      <td>10</td>\n",
       "      <td>367</td>\n",
       "      <td>10_cuts_spending_taxes_fiscal</td>\n",
       "    </tr>\n",
       "    <tr>\n",
       "      <th>12</th>\n",
       "      <td>11</td>\n",
       "      <td>366</td>\n",
       "      <td>11_yards_coach_nfl_points</td>\n",
       "    </tr>\n",
       "    <tr>\n",
       "      <th>13</th>\n",
       "      <td>12</td>\n",
       "      <td>297</td>\n",
       "      <td>12_korea_north korea_koreas_north korean</td>\n",
       "    </tr>\n",
       "    <tr>\n",
       "      <th>14</th>\n",
       "      <td>13</td>\n",
       "      <td>289</td>\n",
       "      <td>13_tennis_djokovic_grand slam_us open</td>\n",
       "    </tr>\n",
       "    <tr>\n",
       "      <th>15</th>\n",
       "      <td>14</td>\n",
       "      <td>289</td>\n",
       "      <td>14_ukraine_ukraine march_kyiv_region ukraine</td>\n",
       "    </tr>\n",
       "    <tr>\n",
       "      <th>16</th>\n",
       "      <td>15</td>\n",
       "      <td>288</td>\n",
       "      <td>15_trump_mueller_investigation_fbi</td>\n",
       "    </tr>\n",
       "    <tr>\n",
       "      <th>17</th>\n",
       "      <td>16</td>\n",
       "      <td>257</td>\n",
       "      <td>16_syria_isis_syrian_iraq</td>\n",
       "    </tr>\n",
       "    <tr>\n",
       "      <th>18</th>\n",
       "      <td>17</td>\n",
       "      <td>255</td>\n",
       "      <td>17_israel_israeli_gaza_hamas</td>\n",
       "    </tr>\n",
       "    <tr>\n",
       "      <th>19</th>\n",
       "      <td>18</td>\n",
       "      <td>253</td>\n",
       "      <td>18_fed_inflation_economy_feds</td>\n",
       "    </tr>\n",
       "    <tr>\n",
       "      <th>20</th>\n",
       "      <td>19</td>\n",
       "      <td>252</td>\n",
       "      <td>19_biden_democrats_bill_senate</td>\n",
       "    </tr>\n",
       "    <tr>\n",
       "      <th>21</th>\n",
       "      <td>20</td>\n",
       "      <td>245</td>\n",
       "      <td>20_obamacare_bill_health care_medicaid</td>\n",
       "    </tr>\n",
       "    <tr>\n",
       "      <th>22</th>\n",
       "      <td>21</td>\n",
       "      <td>240</td>\n",
       "      <td>21_taiwan_chinese_islands_chinas</td>\n",
       "    </tr>\n",
       "    <tr>\n",
       "      <th>23</th>\n",
       "      <td>22</td>\n",
       "      <td>231</td>\n",
       "      <td>22_abortion_abortions_roe_supreme court</td>\n",
       "    </tr>\n",
       "    <tr>\n",
       "      <th>24</th>\n",
       "      <td>23</td>\n",
       "      <td>230</td>\n",
       "      <td>23_golf_masters_pga_ryder</td>\n",
       "    </tr>\n",
       "    <tr>\n",
       "      <th>25</th>\n",
       "      <td>24</td>\n",
       "      <td>228</td>\n",
       "      <td>24_reuters_billion_reuters breakingviews_2022 ...</td>\n",
       "    </tr>\n",
       "  </tbody>\n",
       "</table>\n",
       "</div>"
      ],
      "text/plain": [
       "    Topic  Count                                               Name\n",
       "0      -1  16883                         -1_new_trump_president_two\n",
       "1       0   2223   0_2015_our top photos_photos last_photos last 24\n",
       "2       1    997                   1_economy_stocks_markets_chinese\n",
       "3       2    809                  2_russian_ukraine_ukrainian_putin\n",
       "4       3    695                            3_time_movie_actor_also\n",
       "5       4    626                        4_oil_prices_reuters_russia\n",
       "6       5    588  5_how this beach name nan_this beach name nan ...\n",
       "7       6    439                 6_olympic_olympics_womens_athletes\n",
       "8       7    426                          7_tesla_musk_cars_billion\n",
       "9       8    420            8_immigration_children_trump_immigrants\n",
       "10      9    393              9_vaccine_vaccines_covid19_vaccinated\n",
       "11     10    367                      10_cuts_spending_taxes_fiscal\n",
       "12     11    366                          11_yards_coach_nfl_points\n",
       "13     12    297           12_korea_north korea_koreas_north korean\n",
       "14     13    289              13_tennis_djokovic_grand slam_us open\n",
       "15     14    289       14_ukraine_ukraine march_kyiv_region ukraine\n",
       "16     15    288                 15_trump_mueller_investigation_fbi\n",
       "17     16    257                          16_syria_isis_syrian_iraq\n",
       "18     17    255                       17_israel_israeli_gaza_hamas\n",
       "19     18    253                      18_fed_inflation_economy_feds\n",
       "20     19    252                     19_biden_democrats_bill_senate\n",
       "21     20    245             20_obamacare_bill_health care_medicaid\n",
       "22     21    240                   21_taiwan_chinese_islands_chinas\n",
       "23     22    231            22_abortion_abortions_roe_supreme court\n",
       "24     23    230                          23_golf_masters_pga_ryder\n",
       "25     24    228  24_reuters_billion_reuters breakingviews_2022 ..."
      ]
     },
     "execution_count": 174,
     "metadata": {},
     "output_type": "execute_result"
    }
   ],
   "source": [
    "topic_model_all_corpus.get_topic_info()"
   ]
  },
  {
   "cell_type": "code",
   "execution_count": 175,
   "metadata": {},
   "outputs": [
    {
     "name": "stderr",
     "output_type": "stream",
     "text": [
      "100%|██████████| 24/24 [00:16<00:00,  1.50it/s]\n"
     ]
    },
    {
     "data": {
      "application/vnd.plotly.v1+json": {
       "config": {
        "plotlyServerURL": "https://plot.ly"
       },
       "data": [
        {
         "hoverinfo": "text",
         "marker": {
          "color": "rgb(61,153,112)"
         },
         "mode": "lines",
         "text": [
          "reuters_billion_reuters breakingviews_2022 reuters_global",
          "",
          "",
          "tesla_musk_cars_billion_reuters"
         ],
         "type": "scatter",
         "x": [
          0,
          0.8122747080475377,
          0.8122747080475377,
          0
         ],
         "xaxis": "x",
         "y": [
          -15,
          -15,
          -25,
          -25
         ],
         "yaxis": "y"
        },
        {
         "hoverinfo": "text",
         "marker": {
          "color": "rgb(0,116,217)"
         },
         "mode": "lines",
         "text": [
          "economy_stocks_markets_chinese_inflation",
          "",
          "",
          "fed_inflation_economy_feds_powell"
         ],
         "type": "scatter",
         "x": [
          0,
          1.8624311445719064,
          1.8624311445719064,
          0.8122747080475377
         ],
         "xaxis": "x",
         "y": [
          -5,
          -5,
          -20,
          -20
         ],
         "yaxis": "y"
        },
        {
         "hoverinfo": "text",
         "marker": {
          "color": "rgb(255,65,54)"
         },
         "mode": "lines",
         "text": [
          "oil_prices_reuters_russia_natural gas",
          "",
          "",
          "inflation_economy_fed_investors_interest"
         ],
         "type": "scatter",
         "x": [
          0,
          0.8585221693390074,
          0.8585221693390074,
          0
         ],
         "xaxis": "x",
         "y": [
          -35,
          -35,
          -45,
          -45
         ],
         "yaxis": "y"
        },
        {
         "hoverinfo": "text",
         "marker": {
          "color": "rgb(35,205,205)"
         },
         "mode": "lines",
         "text": [
          "tesla_musk_billion_reuters_cars",
          "",
          "",
          "oil_market_economy_inflation_fed"
         ],
         "type": "scatter",
         "x": [
          0,
          0.871417483864138,
          0.871417483864138,
          0
         ],
         "xaxis": "x",
         "y": [
          -65,
          -65,
          -75,
          -75
         ],
         "yaxis": "y"
        },
        {
         "hoverinfo": "text",
         "marker": {
          "color": "rgb(35,205,205)"
         },
         "mode": "lines",
         "text": [
          "immigration_children_trump_immigrants_asylum",
          "",
          "",
          "trump_mueller_investigation_fbi_flynn"
         ],
         "type": "scatter",
         "x": [
          0,
          0.9144406690074628,
          0.9144406690074628,
          0.871417483864138
         ],
         "xaxis": "x",
         "y": [
          -55,
          -55,
          -70,
          -70
         ],
         "yaxis": "y"
        },
        {
         "hoverinfo": "text",
         "marker": {
          "color": "rgb(0,116,217)"
         },
         "mode": "lines",
         "text": [
          "vaccine_vaccines_covid19_vaccinated_vaccination",
          "",
          "",
          "immigration_children_mexico_trumps_mueller"
         ],
         "type": "scatter",
         "x": [
          0.8585221693390074,
          1.10701988534981,
          1.10701988534981,
          0.9144406690074628
         ],
         "xaxis": "x",
         "y": [
          -40,
          -40,
          -62.5,
          -62.5
         ],
         "yaxis": "y"
        },
        {
         "hoverinfo": "text",
         "marker": {
          "color": "rgb(133,20,75)"
         },
         "mode": "lines",
         "text": [
          "abortion_abortions_roe_supreme court_rights",
          "",
          "",
          "vaccine_immigration_president_children_vaccines"
         ],
         "type": "scatter",
         "x": [
          0,
          0.9377277743894425,
          0.9377277743894425,
          0
         ],
         "xaxis": "x",
         "y": [
          -85,
          -85,
          -95,
          -95
         ],
         "yaxis": "y"
        },
        {
         "hoverinfo": "text",
         "marker": {
          "color": "rgb(255,220,0)"
         },
         "mode": "lines",
         "text": [
          "biden_democrats_bill_senate_infrastructure",
          "",
          "",
          "cuts_spending_taxes_fiscal_debt"
         ],
         "type": "scatter",
         "x": [
          0,
          0.8426825531464072,
          0.8426825531464072,
          0
         ],
         "xaxis": "x",
         "y": [
          -105,
          -105,
          -115,
          -115
         ],
         "yaxis": "y"
        },
        {
         "hoverinfo": "text",
         "marker": {
          "color": "rgb(0,116,217)"
         },
         "mode": "lines",
         "text": [
          "obamacare_bill_health care_medicaid_medicare",
          "",
          "",
          "bill_spending_income_federal_taxes"
         ],
         "type": "scatter",
         "x": [
          0.8426825531464072,
          1.0683527424987005,
          1.0683527424987005,
          0
         ],
         "xaxis": "x",
         "y": [
          -110,
          -110,
          -125,
          -125
         ],
         "yaxis": "y"
        },
        {
         "hoverinfo": "text",
         "marker": {
          "color": "rgb(0,116,217)"
         },
         "mode": "lines",
         "text": [
          "vaccine_abortion_border_court_states",
          "",
          "",
          "tax_bill_democrats_obamacare_federal"
         ],
         "type": "scatter",
         "x": [
          0.9377277743894425,
          1.1569933841237225,
          1.1569933841237225,
          1.0683527424987005
         ],
         "xaxis": "x",
         "y": [
          -90,
          -90,
          -117.5,
          -117.5
         ],
         "yaxis": "y"
        },
        {
         "hoverinfo": "text",
         "marker": {
          "color": "rgb(40,35,35)"
         },
         "mode": "lines",
         "text": [
          "russian_ukraine_ukrainian_putin_nato",
          "",
          "",
          "syria_isis_syrian_iraq_weapons"
         ],
         "type": "scatter",
         "x": [
          0,
          0.8388875940708863,
          0.8388875940708863,
          0
         ],
         "xaxis": "x",
         "y": [
          -155,
          -155,
          -165,
          -165
         ],
         "yaxis": "y"
        },
        {
         "hoverinfo": "text",
         "marker": {
          "color": "rgb(40,35,35)"
         },
         "mode": "lines",
         "text": [
          "israel_israeli_gaza_hamas_palestinian",
          "",
          "",
          "ukraine_syria_putin_nato_russias"
         ],
         "type": "scatter",
         "x": [
          0,
          0.9945172306982424,
          0.9945172306982424,
          0.8388875940708863
         ],
         "xaxis": "x",
         "y": [
          -145,
          -145,
          -160,
          -160
         ],
         "yaxis": "y"
        },
        {
         "hoverinfo": "text",
         "marker": {
          "color": "rgb(0,116,217)"
         },
         "mode": "lines",
         "text": [
          "taiwan_chinese_islands_chinas_foreign",
          "",
          "",
          "korea_north korea_koreas_north korean_pyongyang"
         ],
         "type": "scatter",
         "x": [
          0,
          1.1522549797527666,
          1.1522549797527666,
          0.9945172306982424
         ],
         "xaxis": "x",
         "y": [
          -135,
          -135,
          -152.5,
          -152.5
         ],
         "yaxis": "y"
        },
        {
         "hoverinfo": "text",
         "marker": {
          "color": "rgb(61,153,112)"
         },
         "mode": "lines",
         "text": [
          "russian_ukraine_russia_syria_putin",
          "",
          "",
          "korea_north korea_taiwan_missile_nuclear"
         ],
         "type": "scatter",
         "x": [
          0,
          0.6549425809098911,
          0.6549425809098911,
          0
         ],
         "xaxis": "x",
         "y": [
          -185,
          -185,
          -195,
          -195
         ],
         "yaxis": "y"
        },
        {
         "hoverinfo": "text",
         "marker": {
          "color": "rgb(61,153,112)"
         },
         "mode": "lines",
         "text": [
          "trump_tax_vaccine_abortion_bill",
          "",
          "",
          "north korea_forces_weapons_nuclear_syria"
         ],
         "type": "scatter",
         "x": [
          0,
          0.7340494258772892,
          0.7340494258772892,
          0.6549425809098911
         ],
         "xaxis": "x",
         "y": [
          -175,
          -175,
          -190,
          -190
         ],
         "yaxis": "y"
        },
        {
         "hoverinfo": "text",
         "marker": {
          "color": "rgb(0,116,217)"
         },
         "mode": "lines",
         "text": [
          "oil_market_reuters_economy_inflation",
          "",
          "",
          "president_russian_russia_ukraine_states"
         ],
         "type": "scatter",
         "x": [
          1.1522549797527666,
          1.2203891538047995,
          1.2203891538047995,
          0.7340494258772892
         ],
         "xaxis": "x",
         "y": [
          -143.75,
          -143.75,
          -182.5,
          -182.5
         ],
         "yaxis": "y"
        },
        {
         "hoverinfo": "text",
         "marker": {
          "color": "rgb(0,116,217)"
         },
         "mode": "lines",
         "text": [
          "tennis_djokovic_grand slam_us open_wimbledon",
          "",
          "",
          "golf_masters_pga_ryder_ryder cup"
         ],
         "type": "scatter",
         "x": [
          1.1569933841237225,
          1.6881685605667225,
          1.6881685605667225,
          1.2203891538047995
         ],
         "xaxis": "x",
         "y": [
          -103.75,
          -103.75,
          -163.125,
          -163.125
         ],
         "yaxis": "y"
        },
        {
         "hoverinfo": "text",
         "marker": {
          "color": "rgb(255,65,54)"
         },
         "mode": "lines",
         "text": [
          "yards_coach_nfl_points_rodgers",
          "",
          "",
          "time_movie_actor_also_films"
         ],
         "type": "scatter",
         "x": [
          0,
          0.7038300384201518,
          0.7038300384201518,
          0
         ],
         "xaxis": "x",
         "y": [
          -205,
          -205,
          -215,
          -215
         ],
         "yaxis": "y"
        },
        {
         "hoverinfo": "text",
         "marker": {
          "color": "rgb(35,205,205)"
         },
         "mode": "lines",
         "text": [
          "film_game_its_first_season",
          "",
          "",
          "olympic_olympics_womens_athletes_ski"
         ],
         "type": "scatter",
         "x": [
          0,
          0.9453280325522511,
          0.9453280325522511,
          0
         ],
         "xaxis": "x",
         "y": [
          -225,
          -225,
          -235,
          -235
         ],
         "yaxis": "y"
        },
        {
         "hoverinfo": "text",
         "marker": {
          "color": "rgb(0,116,217)"
         },
         "mode": "lines",
         "text": [
          "tennis_golf_williams_grand slam_djokovic",
          "",
          "",
          "film_games_olympic_time_olympics"
         ],
         "type": "scatter",
         "x": [
          0.7038300384201518,
          1.0485286333910218,
          1.0485286333910218,
          0.9453280325522511
         ],
         "xaxis": "x",
         "y": [
          -210,
          -210,
          -230,
          -230
         ],
         "yaxis": "y"
        },
        {
         "hoverinfo": "text",
         "marker": {
          "color": "rgb(0,116,217)"
         },
         "mode": "lines",
         "text": [
          "ukraine_ukraine march_kyiv_region ukraine_ukrainian",
          "",
          "",
          "2015_our top photos_photos last_photos last 24_24 hours our top photos"
         ],
         "type": "scatter",
         "x": [
          1.0485286333910218,
          1.2995510828964474,
          1.2995510828964474,
          0
         ],
         "xaxis": "x",
         "y": [
          -220,
          -220,
          -245,
          -245
         ],
         "yaxis": "y"
        },
        {
         "hoverinfo": "text",
         "marker": {
          "color": "rgb(0,116,217)"
         },
         "mode": "lines",
         "text": [
          "ukraine_top_2015_top photos_our top photos",
          "",
          "",
          "how this beach name nan_this beach name nan nan_beach name nan nan nan_beach name nan nan_beach name nan"
         ],
         "type": "scatter",
         "x": [
          1.6881685605667225,
          1.8870292873045118,
          1.8870292873045118,
          1.2995510828964474
         ],
         "xaxis": "x",
         "y": [
          -133.4375,
          -133.4375,
          -232.5,
          -232.5
         ],
         "yaxis": "y"
        },
        {
         "hoverinfo": "text",
         "marker": {
          "color": "rgb(0,116,217)"
         },
         "mode": "lines",
         "text": [
          "said_first_world_time_film",
          "",
          "",
          "ukraine_top_2015_top photos_our top photos"
         ],
         "type": "scatter",
         "x": [
          1.10701988534981,
          2.037753702678424,
          2.037753702678424,
          1.8870292873045118
         ],
         "xaxis": "x",
         "y": [
          -51.25,
          -51.25,
          -182.96875,
          -182.96875
         ],
         "yaxis": "y"
        },
        {
         "hoverinfo": "text",
         "marker": {
          "color": "rgb(0,116,217)"
         },
         "mode": "lines",
         "text": [
          "russian_could_russia_trump_states",
          "",
          "",
          "ukraine_top_2015_top photos_our top photos"
         ],
         "type": "scatter",
         "x": [
          1.8624311445719064,
          2.7871012441538037,
          2.7871012441538037,
          2.037753702678424
         ],
         "xaxis": "x",
         "y": [
          -12.5,
          -12.5,
          -117.109375,
          -117.109375
         ],
         "yaxis": "y"
        },
        {
         "hoverinfo": "text",
         "hovertext": [
          "vaccine_vaccines_covid19_vaccinated_vaccination",
          "obamacare_bill_health care_medicaid_medicare",
          "vaccine_abortion_border_court_states",
          "oil_market_reuters_economy_inflation",
          "tennis_djokovic_grand slam_us open_wimbledon",
          "tennis_golf_williams_grand slam_djokovic",
          "ukraine_ukraine march_kyiv_region ukraine_ukrainian",
          "ukraine_top_2015_top photos_our top photos",
          "said_first_world_time_film",
          "russian_could_russia_trump_states"
         ],
         "marker": {
          "color": "black"
         },
         "mode": "markers",
         "showlegend": false,
         "type": "scatter",
         "x": [
          0.8585221693390074,
          0.8426825531464072,
          0.9377277743894425,
          1.1522549797527666,
          1.1569933841237225,
          0.7038300384201518,
          1.0485286333910218,
          1.6881685605667225,
          1.10701988534981,
          1.8624311445719064
         ],
         "y": [
          -40,
          -110,
          -90,
          -143.75,
          -103.75,
          -210,
          -220,
          -133.4375,
          -51.25,
          -12.5
         ]
        },
        {
         "hoverinfo": "text",
         "hovertext": [
          "fed_inflation_economy_feds_powell",
          "trump_mueller_investigation_fbi_flynn",
          "immigration_children_mexico_trumps_mueller",
          "tax_bill_democrats_obamacare_federal",
          "ukraine_syria_putin_nato_russias",
          "korea_north korea_koreas_north korean_pyongyang",
          "north korea_forces_weapons_nuclear_syria",
          "president_russian_russia_ukraine_states",
          "golf_masters_pga_ryder_ryder cup",
          "film_games_olympic_time_olympics",
          "how this beach name nan_this beach name nan nan_beach name nan nan nan_beach name nan nan_beach name nan",
          "ukraine_top_2015_top photos_our top photos",
          "ukraine_top_2015_top photos_our top photos"
         ],
         "marker": {
          "color": "black"
         },
         "mode": "markers",
         "showlegend": false,
         "type": "scatter",
         "x": [
          0.8122747080475377,
          0.871417483864138,
          0.9144406690074628,
          1.0683527424987005,
          0.8388875940708863,
          0.9945172306982424,
          0.6549425809098911,
          0.7340494258772892,
          1.2203891538047995,
          0.9453280325522511,
          1.2995510828964474,
          1.8870292873045118,
          2.037753702678424
         ],
         "y": [
          -20,
          -70,
          -62.5,
          -117.5,
          -160,
          -152.5,
          -190,
          -182.5,
          -163.125,
          -230,
          -232.5,
          -182.96875,
          -117.109375
         ]
        }
       ],
       "layout": {
        "autosize": false,
        "height": 575,
        "hoverlabel": {
         "bgcolor": "white",
         "font": {
          "family": "Rockwell",
          "size": 16
         }
        },
        "hovermode": "closest",
        "plot_bgcolor": "#ECEFF1",
        "showlegend": false,
        "template": {
         "data": {
          "bar": [
           {
            "error_x": {
             "color": "#2a3f5f"
            },
            "error_y": {
             "color": "#2a3f5f"
            },
            "marker": {
             "line": {
              "color": "white",
              "width": 0.5
             },
             "pattern": {
              "fillmode": "overlay",
              "size": 10,
              "solidity": 0.2
             }
            },
            "type": "bar"
           }
          ],
          "barpolar": [
           {
            "marker": {
             "line": {
              "color": "white",
              "width": 0.5
             },
             "pattern": {
              "fillmode": "overlay",
              "size": 10,
              "solidity": 0.2
             }
            },
            "type": "barpolar"
           }
          ],
          "carpet": [
           {
            "aaxis": {
             "endlinecolor": "#2a3f5f",
             "gridcolor": "#C8D4E3",
             "linecolor": "#C8D4E3",
             "minorgridcolor": "#C8D4E3",
             "startlinecolor": "#2a3f5f"
            },
            "baxis": {
             "endlinecolor": "#2a3f5f",
             "gridcolor": "#C8D4E3",
             "linecolor": "#C8D4E3",
             "minorgridcolor": "#C8D4E3",
             "startlinecolor": "#2a3f5f"
            },
            "type": "carpet"
           }
          ],
          "choropleth": [
           {
            "colorbar": {
             "outlinewidth": 0,
             "ticks": ""
            },
            "type": "choropleth"
           }
          ],
          "contour": [
           {
            "colorbar": {
             "outlinewidth": 0,
             "ticks": ""
            },
            "colorscale": [
             [
              0,
              "#0d0887"
             ],
             [
              0.1111111111111111,
              "#46039f"
             ],
             [
              0.2222222222222222,
              "#7201a8"
             ],
             [
              0.3333333333333333,
              "#9c179e"
             ],
             [
              0.4444444444444444,
              "#bd3786"
             ],
             [
              0.5555555555555556,
              "#d8576b"
             ],
             [
              0.6666666666666666,
              "#ed7953"
             ],
             [
              0.7777777777777778,
              "#fb9f3a"
             ],
             [
              0.8888888888888888,
              "#fdca26"
             ],
             [
              1,
              "#f0f921"
             ]
            ],
            "type": "contour"
           }
          ],
          "contourcarpet": [
           {
            "colorbar": {
             "outlinewidth": 0,
             "ticks": ""
            },
            "type": "contourcarpet"
           }
          ],
          "heatmap": [
           {
            "colorbar": {
             "outlinewidth": 0,
             "ticks": ""
            },
            "colorscale": [
             [
              0,
              "#0d0887"
             ],
             [
              0.1111111111111111,
              "#46039f"
             ],
             [
              0.2222222222222222,
              "#7201a8"
             ],
             [
              0.3333333333333333,
              "#9c179e"
             ],
             [
              0.4444444444444444,
              "#bd3786"
             ],
             [
              0.5555555555555556,
              "#d8576b"
             ],
             [
              0.6666666666666666,
              "#ed7953"
             ],
             [
              0.7777777777777778,
              "#fb9f3a"
             ],
             [
              0.8888888888888888,
              "#fdca26"
             ],
             [
              1,
              "#f0f921"
             ]
            ],
            "type": "heatmap"
           }
          ],
          "heatmapgl": [
           {
            "colorbar": {
             "outlinewidth": 0,
             "ticks": ""
            },
            "colorscale": [
             [
              0,
              "#0d0887"
             ],
             [
              0.1111111111111111,
              "#46039f"
             ],
             [
              0.2222222222222222,
              "#7201a8"
             ],
             [
              0.3333333333333333,
              "#9c179e"
             ],
             [
              0.4444444444444444,
              "#bd3786"
             ],
             [
              0.5555555555555556,
              "#d8576b"
             ],
             [
              0.6666666666666666,
              "#ed7953"
             ],
             [
              0.7777777777777778,
              "#fb9f3a"
             ],
             [
              0.8888888888888888,
              "#fdca26"
             ],
             [
              1,
              "#f0f921"
             ]
            ],
            "type": "heatmapgl"
           }
          ],
          "histogram": [
           {
            "marker": {
             "pattern": {
              "fillmode": "overlay",
              "size": 10,
              "solidity": 0.2
             }
            },
            "type": "histogram"
           }
          ],
          "histogram2d": [
           {
            "colorbar": {
             "outlinewidth": 0,
             "ticks": ""
            },
            "colorscale": [
             [
              0,
              "#0d0887"
             ],
             [
              0.1111111111111111,
              "#46039f"
             ],
             [
              0.2222222222222222,
              "#7201a8"
             ],
             [
              0.3333333333333333,
              "#9c179e"
             ],
             [
              0.4444444444444444,
              "#bd3786"
             ],
             [
              0.5555555555555556,
              "#d8576b"
             ],
             [
              0.6666666666666666,
              "#ed7953"
             ],
             [
              0.7777777777777778,
              "#fb9f3a"
             ],
             [
              0.8888888888888888,
              "#fdca26"
             ],
             [
              1,
              "#f0f921"
             ]
            ],
            "type": "histogram2d"
           }
          ],
          "histogram2dcontour": [
           {
            "colorbar": {
             "outlinewidth": 0,
             "ticks": ""
            },
            "colorscale": [
             [
              0,
              "#0d0887"
             ],
             [
              0.1111111111111111,
              "#46039f"
             ],
             [
              0.2222222222222222,
              "#7201a8"
             ],
             [
              0.3333333333333333,
              "#9c179e"
             ],
             [
              0.4444444444444444,
              "#bd3786"
             ],
             [
              0.5555555555555556,
              "#d8576b"
             ],
             [
              0.6666666666666666,
              "#ed7953"
             ],
             [
              0.7777777777777778,
              "#fb9f3a"
             ],
             [
              0.8888888888888888,
              "#fdca26"
             ],
             [
              1,
              "#f0f921"
             ]
            ],
            "type": "histogram2dcontour"
           }
          ],
          "mesh3d": [
           {
            "colorbar": {
             "outlinewidth": 0,
             "ticks": ""
            },
            "type": "mesh3d"
           }
          ],
          "parcoords": [
           {
            "line": {
             "colorbar": {
              "outlinewidth": 0,
              "ticks": ""
             }
            },
            "type": "parcoords"
           }
          ],
          "pie": [
           {
            "automargin": true,
            "type": "pie"
           }
          ],
          "scatter": [
           {
            "fillpattern": {
             "fillmode": "overlay",
             "size": 10,
             "solidity": 0.2
            },
            "type": "scatter"
           }
          ],
          "scatter3d": [
           {
            "line": {
             "colorbar": {
              "outlinewidth": 0,
              "ticks": ""
             }
            },
            "marker": {
             "colorbar": {
              "outlinewidth": 0,
              "ticks": ""
             }
            },
            "type": "scatter3d"
           }
          ],
          "scattercarpet": [
           {
            "marker": {
             "colorbar": {
              "outlinewidth": 0,
              "ticks": ""
             }
            },
            "type": "scattercarpet"
           }
          ],
          "scattergeo": [
           {
            "marker": {
             "colorbar": {
              "outlinewidth": 0,
              "ticks": ""
             }
            },
            "type": "scattergeo"
           }
          ],
          "scattergl": [
           {
            "marker": {
             "colorbar": {
              "outlinewidth": 0,
              "ticks": ""
             }
            },
            "type": "scattergl"
           }
          ],
          "scattermapbox": [
           {
            "marker": {
             "colorbar": {
              "outlinewidth": 0,
              "ticks": ""
             }
            },
            "type": "scattermapbox"
           }
          ],
          "scatterpolar": [
           {
            "marker": {
             "colorbar": {
              "outlinewidth": 0,
              "ticks": ""
             }
            },
            "type": "scatterpolar"
           }
          ],
          "scatterpolargl": [
           {
            "marker": {
             "colorbar": {
              "outlinewidth": 0,
              "ticks": ""
             }
            },
            "type": "scatterpolargl"
           }
          ],
          "scatterternary": [
           {
            "marker": {
             "colorbar": {
              "outlinewidth": 0,
              "ticks": ""
             }
            },
            "type": "scatterternary"
           }
          ],
          "surface": [
           {
            "colorbar": {
             "outlinewidth": 0,
             "ticks": ""
            },
            "colorscale": [
             [
              0,
              "#0d0887"
             ],
             [
              0.1111111111111111,
              "#46039f"
             ],
             [
              0.2222222222222222,
              "#7201a8"
             ],
             [
              0.3333333333333333,
              "#9c179e"
             ],
             [
              0.4444444444444444,
              "#bd3786"
             ],
             [
              0.5555555555555556,
              "#d8576b"
             ],
             [
              0.6666666666666666,
              "#ed7953"
             ],
             [
              0.7777777777777778,
              "#fb9f3a"
             ],
             [
              0.8888888888888888,
              "#fdca26"
             ],
             [
              1,
              "#f0f921"
             ]
            ],
            "type": "surface"
           }
          ],
          "table": [
           {
            "cells": {
             "fill": {
              "color": "#EBF0F8"
             },
             "line": {
              "color": "white"
             }
            },
            "header": {
             "fill": {
              "color": "#C8D4E3"
             },
             "line": {
              "color": "white"
             }
            },
            "type": "table"
           }
          ]
         },
         "layout": {
          "annotationdefaults": {
           "arrowcolor": "#2a3f5f",
           "arrowhead": 0,
           "arrowwidth": 1
          },
          "autotypenumbers": "strict",
          "coloraxis": {
           "colorbar": {
            "outlinewidth": 0,
            "ticks": ""
           }
          },
          "colorscale": {
           "diverging": [
            [
             0,
             "#8e0152"
            ],
            [
             0.1,
             "#c51b7d"
            ],
            [
             0.2,
             "#de77ae"
            ],
            [
             0.3,
             "#f1b6da"
            ],
            [
             0.4,
             "#fde0ef"
            ],
            [
             0.5,
             "#f7f7f7"
            ],
            [
             0.6,
             "#e6f5d0"
            ],
            [
             0.7,
             "#b8e186"
            ],
            [
             0.8,
             "#7fbc41"
            ],
            [
             0.9,
             "#4d9221"
            ],
            [
             1,
             "#276419"
            ]
           ],
           "sequential": [
            [
             0,
             "#0d0887"
            ],
            [
             0.1111111111111111,
             "#46039f"
            ],
            [
             0.2222222222222222,
             "#7201a8"
            ],
            [
             0.3333333333333333,
             "#9c179e"
            ],
            [
             0.4444444444444444,
             "#bd3786"
            ],
            [
             0.5555555555555556,
             "#d8576b"
            ],
            [
             0.6666666666666666,
             "#ed7953"
            ],
            [
             0.7777777777777778,
             "#fb9f3a"
            ],
            [
             0.8888888888888888,
             "#fdca26"
            ],
            [
             1,
             "#f0f921"
            ]
           ],
           "sequentialminus": [
            [
             0,
             "#0d0887"
            ],
            [
             0.1111111111111111,
             "#46039f"
            ],
            [
             0.2222222222222222,
             "#7201a8"
            ],
            [
             0.3333333333333333,
             "#9c179e"
            ],
            [
             0.4444444444444444,
             "#bd3786"
            ],
            [
             0.5555555555555556,
             "#d8576b"
            ],
            [
             0.6666666666666666,
             "#ed7953"
            ],
            [
             0.7777777777777778,
             "#fb9f3a"
            ],
            [
             0.8888888888888888,
             "#fdca26"
            ],
            [
             1,
             "#f0f921"
            ]
           ]
          },
          "colorway": [
           "#636efa",
           "#EF553B",
           "#00cc96",
           "#ab63fa",
           "#FFA15A",
           "#19d3f3",
           "#FF6692",
           "#B6E880",
           "#FF97FF",
           "#FECB52"
          ],
          "font": {
           "color": "#2a3f5f"
          },
          "geo": {
           "bgcolor": "white",
           "lakecolor": "white",
           "landcolor": "white",
           "showlakes": true,
           "showland": true,
           "subunitcolor": "#C8D4E3"
          },
          "hoverlabel": {
           "align": "left"
          },
          "hovermode": "closest",
          "mapbox": {
           "style": "light"
          },
          "paper_bgcolor": "white",
          "plot_bgcolor": "white",
          "polar": {
           "angularaxis": {
            "gridcolor": "#EBF0F8",
            "linecolor": "#EBF0F8",
            "ticks": ""
           },
           "bgcolor": "white",
           "radialaxis": {
            "gridcolor": "#EBF0F8",
            "linecolor": "#EBF0F8",
            "ticks": ""
           }
          },
          "scene": {
           "xaxis": {
            "backgroundcolor": "white",
            "gridcolor": "#DFE8F3",
            "gridwidth": 2,
            "linecolor": "#EBF0F8",
            "showbackground": true,
            "ticks": "",
            "zerolinecolor": "#EBF0F8"
           },
           "yaxis": {
            "backgroundcolor": "white",
            "gridcolor": "#DFE8F3",
            "gridwidth": 2,
            "linecolor": "#EBF0F8",
            "showbackground": true,
            "ticks": "",
            "zerolinecolor": "#EBF0F8"
           },
           "zaxis": {
            "backgroundcolor": "white",
            "gridcolor": "#DFE8F3",
            "gridwidth": 2,
            "linecolor": "#EBF0F8",
            "showbackground": true,
            "ticks": "",
            "zerolinecolor": "#EBF0F8"
           }
          },
          "shapedefaults": {
           "line": {
            "color": "#2a3f5f"
           }
          },
          "ternary": {
           "aaxis": {
            "gridcolor": "#DFE8F3",
            "linecolor": "#A2B1C6",
            "ticks": ""
           },
           "baxis": {
            "gridcolor": "#DFE8F3",
            "linecolor": "#A2B1C6",
            "ticks": ""
           },
           "bgcolor": "white",
           "caxis": {
            "gridcolor": "#DFE8F3",
            "linecolor": "#A2B1C6",
            "ticks": ""
           }
          },
          "title": {
           "x": 0.05
          },
          "xaxis": {
           "automargin": true,
           "gridcolor": "#EBF0F8",
           "linecolor": "#EBF0F8",
           "ticks": "",
           "title": {
            "standoff": 15
           },
           "zerolinecolor": "#EBF0F8",
           "zerolinewidth": 2
          },
          "yaxis": {
           "automargin": true,
           "gridcolor": "#EBF0F8",
           "linecolor": "#EBF0F8",
           "ticks": "",
           "title": {
            "standoff": 15
           },
           "zerolinecolor": "#EBF0F8",
           "zerolinewidth": 2
          }
         }
        },
        "title": {
         "font": {
          "color": "Black",
          "size": 22
         },
         "text": "<b>Hierarchical Clustering",
         "x": 0.5,
         "xanchor": "center",
         "yanchor": "top"
        },
        "width": 1000,
        "xaxis": {
         "mirror": "allticks",
         "rangemode": "tozero",
         "showgrid": false,
         "showline": true,
         "showticklabels": true,
         "ticks": "outside",
         "type": "linear",
         "zeroline": false
        },
        "yaxis": {
         "mirror": "allticks",
         "range": [
          -250,
          0
         ],
         "rangemode": "tozero",
         "showgrid": false,
         "showline": true,
         "showticklabels": true,
         "tickmode": "array",
         "ticks": "outside",
         "ticktext": [
          "5_how this beach name nan_t...",
          "14_ukraine_ukraine march_kyiv",
          "0_2015_our top photos_photo...",
          "13_tennis_djokovic_grand slam",
          "23_golf_masters_pga",
          "11_yards_coach_nfl",
          "3_time_movie_actor",
          "6_olympic_olympics_womens",
          "12_korea_north korea_koreas",
          "21_taiwan_chinese_islands",
          "2_russian_ukraine_ukrainian",
          "16_syria_isis_syrian",
          "17_israel_israeli_gaza",
          "22_abortion_abortions_roe",
          "9_vaccine_vaccines_covid19",
          "8_immigration_children_trump",
          "15_trump_mueller_investigat...",
          "20_obamacare_bill_health care",
          "19_biden_democrats_bill",
          "10_cuts_spending_taxes",
          "18_fed_inflation_economy",
          "1_economy_stocks_markets",
          "7_tesla_musk_cars",
          "4_oil_prices_reuters",
          "24_reuters_billion_reuters ..."
         ],
         "tickvals": [
          -5,
          -15,
          -25,
          -35,
          -45,
          -55,
          -65,
          -75,
          -85,
          -95,
          -105,
          -115,
          -125,
          -135,
          -145,
          -155,
          -165,
          -175,
          -185,
          -195,
          -205,
          -215,
          -225,
          -235,
          -245
         ],
         "type": "linear",
         "zeroline": false
        }
       }
      }
     },
     "metadata": {},
     "output_type": "display_data"
    }
   ],
   "source": [
    "all_hierarchical = topic_model_all_corpus.hierarchical_topics(docs=corpus)\n",
    "all_hierarchical_fig = topic_model_all_corpus.visualize_hierarchy(hierarchical_topics=all_hierarchical)\n",
    "all_hierarchical_fig.show()"
   ]
  },
  {
   "cell_type": "code",
   "execution_count": 176,
   "metadata": {},
   "outputs": [],
   "source": [
    "all_hierarchical_fig.write_html(\"all_hierarchical.html\")"
   ]
  },
  {
   "cell_type": "code",
   "execution_count": 177,
   "metadata": {},
   "outputs": [
    {
     "name": "stderr",
     "output_type": "stream",
     "text": [
      "58it [14:31:23, 901.44s/it] \n"
     ]
    }
   ],
   "source": [
    "topics_all_corpus_over_time = topic_model_all_corpus.topics_over_time(\n",
    "                                docs=corpus,\n",
    "                                timestamps=df['Date'].to_list(),\n",
    "                                nr_bins=100, evolution_tuning=True, global_tuning=False\n",
    "    \n",
    ")\n"
   ]
  },
  {
   "cell_type": "code",
   "execution_count": 178,
   "metadata": {},
   "outputs": [
    {
     "data": {
      "application/vnd.plotly.v1+json": {
       "config": {
        "plotlyServerURL": "https://plot.ly"
       },
       "data": [
        {
         "hoverinfo": "text",
         "hovertext": [
          "<b>Topic 0</b><br>Words: cinco de, cinco de mayo, de mayo, battle puebla, holiday",
          "<b>Topic 0</b><br>Words: marines, parris island, missile, museum pacific war, titan ii",
          "<b>Topic 0</b><br>Words: airport, international airport, gibraltar, runways, kansai international airport",
          "<b>Topic 0</b><br>Words: march, february, april 2014, march 2014, photos last 24",
          "<b>Topic 0</b><br>Words: august, photos last 24, photos last, last 24, june 2014",
          "<b>Topic 0</b><br>Words: december, photos last 24, photos last, last 24, top photos last 24",
          "<b>Topic 0</b><br>Words: our top photos, our top photos last, top photos last, photos last, our top photos last 24",
          "<b>Topic 0</b><br>Words: august, top photos last 24, top photos last, our top photos last 24, photos last 24",
          "<b>Topic 0</b><br>Words: our top photos last 24, top photos last 24, our top photos last, top photos last, photos last 24",
          "<b>Topic 0</b><br>Words: our top photos, our top photos last 24, top photos last 24, our top photos last, top photos last",
          "<b>Topic 0</b><br>Words: our top photos last, top photos last, our top photos last 24, top photos last 24, photos last 24",
          "<b>Topic 0</b><br>Words: our top photos, top photos, mosul, our top photos last 24, top photos last 24",
          "<b>Topic 0</b><br>Words: our top photos last 24, top photos last 24, our top photos last, top photos last, photos last 24",
          "<b>Topic 0</b><br>Words: our top photos, marawi, our top photos last 24, top photos last 24, our top photos last",
          "<b>Topic 0</b><br>Words: london, police, war zone, murders, tough gun laws",
          "<b>Topic 0</b><br>Words: stonewall, riots, stonewall inn, would take bullet, christopher street",
          "<b>Topic 0</b><br>Words: protest, our top photos, our top photos last 24, top photos last 24, top photos last",
          "<b>Topic 0</b><br>Words: coronavirus, our top photos last 24, top photos last 24, our top photos last, top photos last",
          "<b>Topic 0</b><br>Words: coronavirus, 2020, outbreak, our top photos, top photos",
          "<b>Topic 0</b><br>Words: our top photos, top photos, hours our top photos, 24 hours our top photos, 24 hours our top",
          "<b>Topic 0</b><br>Words: coronavirus, top photos past, top photos, our top photos past 24, top photos past 24",
          "<b>Topic 0</b><br>Words: 2021, our top photos past, top photos, our top photos past 24, top photos past 24",
          "<b>Topic 0</b><br>Words: top photos past, our top photos past, our top photos past 24, top photos past 24, photos past 24",
          "<b>Topic 0</b><br>Words: april, march, ukraine, 2022, january",
          "<b>Topic 0</b><br>Words: 2022, june, july, lanka, sri lanka",
          "<b>Topic 0</b><br>Words: sri, inflation, lanka, reuters, sri lanka"
         ],
         "marker": {
          "color": "#E69F00"
         },
         "mode": "lines",
         "name": "0_2015_our top photos_photos last_photos...",
         "type": "scatter",
         "x": [
          "2012-04-03T09:07:12",
          "2012-08-08T09:36:00",
          "2013-08-24T11:02:24",
          "2013-12-29T11:31:12",
          "2014-05-05T12:00:00",
          "2014-09-09T12:28:48",
          "2015-01-14T12:57:36",
          "2015-05-21T13:26:24",
          "2015-09-25T13:55:12",
          "2016-01-30T14:24:00",
          "2016-06-05T14:52:48",
          "2016-10-10T15:21:36",
          "2017-02-14T15:50:24",
          "2017-06-21T16:19:12",
          "2018-03-02T17:16:48",
          "2019-03-18T18:43:12",
          "2019-07-23T19:12:00",
          "2019-11-27T19:40:48",
          "2020-04-02T20:09:36",
          "2020-08-07T20:38:24",
          "2020-12-12T21:07:12",
          "2021-04-18T21:36:00",
          "2021-08-23T22:04:48",
          "2021-12-28T22:33:36",
          "2022-05-04T23:02:24",
          "2022-09-08T23:31:12"
         ],
         "y": [
          1,
          1,
          2,
          66,
          109,
          91,
          102,
          105,
          102,
          107,
          65,
          108,
          106,
          10,
          1,
          2,
          56,
          101,
          117,
          106,
          107,
          113,
          110,
          243,
          261,
          31
         ]
        },
        {
         "hoverinfo": "text",
         "hovertext": [
          "<b>Topic 1</b><br>Words: greece, eurozone, default, euro, europe",
          "<b>Topic 1</b><br>Words: eurozone, greece, germany, european, euro",
          "<b>Topic 1</b><br>Words: greece, greek, eurozone, austerity, bank",
          "<b>Topic 1</b><br>Words: eurozone, economy, ecb, central bank, debt",
          "<b>Topic 1</b><br>Words: economy, cyprus, bank, eurozone, abe",
          "<b>Topic 1</b><br>Words: economy, banks, debt, eurozone, japan",
          "<b>Topic 1</b><br>Words: economy, government, abe, yen, abenomics",
          "<b>Topic 1</b><br>Words: investors, growth, stocks, chinas, markets",
          "<b>Topic 1</b><br>Words: alibaba, market, stocks, investors, cynk",
          "<b>Topic 1</b><br>Words: market, stocks, stock, investors, hong kong",
          "<b>Topic 1</b><br>Words: stocks, market, economy, growth, year",
          "<b>Topic 1</b><br>Words: chinas, stocks, markets, economy, stock market",
          "<b>Topic 1</b><br>Words: market, stocks, economy, growth, chinas",
          "<b>Topic 1</b><br>Words: uber, amc, dache, billion, theater chain",
          "<b>Topic 1</b><br>Words: china, alibaba, brexit, economy, walmart",
          "<b>Topic 1</b><br>Words: cash, bank, dow, economy, rupee notes",
          "<b>Topic 1</b><br>Words: china, chinese, chinas, debt, moutai",
          "<b>Topic 1</b><br>Words: market, chinas, growth, chinese, stocks",
          "<b>Topic 1</b><br>Words: dow, market, earnings, wall street, stock",
          "<b>Topic 1</b><br>Words: chinese, ant, china, trade war, economy",
          "<b>Topic 1</b><br>Words: chinese, chinas, yuan, currency, alibaba",
          "<b>Topic 1</b><br>Words: china, chinas, growth, economy, slowdown",
          "<b>Topic 1</b><br>Words: chinas, growth, ecb, chinese, economy",
          "<b>Topic 1</b><br>Words: yuan, central bank, hong kong, trade war, currency",
          "<b>Topic 1</b><br>Words: economy, chinas, markets, hong, chinese",
          "<b>Topic 1</b><br>Words: stocks, investors, market, sp 500, hong kong",
          "<b>Topic 1</b><br>Words: ant, alibaba, stocks, chinese, market",
          "<b>Topic 1</b><br>Words: gamestop, investors, robinhood, stocks, shares",
          "<b>Topic 1</b><br>Words: investors, chinese, reuters, ipo, shares",
          "<b>Topic 1</b><br>Words: chinas, growth, reuters, inflation, billion",
          "<b>Topic 1</b><br>Words: reuters, rates, inflation, yuan, chinas",
          "<b>Topic 1</b><br>Words: abe, inflation, japan, rates, ldp",
          "<b>Topic 1</b><br>Words: inflation, reuters, dollar, markets, interest"
         ],
         "marker": {
          "color": "#56B4E9"
         },
         "mode": "lines",
         "name": "1_economy_stocks_markets_chinese",
         "type": "scatter",
         "x": [
          "2011-07-24T08:09:36",
          "2011-11-28T08:38:24",
          "2012-04-03T09:07:12",
          "2012-08-08T09:36:00",
          "2012-12-13T10:04:48",
          "2013-04-19T10:33:36",
          "2013-08-24T11:02:24",
          "2013-12-29T11:31:12",
          "2014-05-05T12:00:00",
          "2014-09-09T12:28:48",
          "2015-01-14T12:57:36",
          "2015-05-21T13:26:24",
          "2015-09-25T13:55:12",
          "2016-01-30T14:24:00",
          "2016-06-05T14:52:48",
          "2016-10-10T15:21:36",
          "2017-02-14T15:50:24",
          "2017-06-21T16:19:12",
          "2017-10-26T16:48:00",
          "2018-03-02T17:16:48",
          "2018-07-07T17:45:36",
          "2018-11-11T18:14:24",
          "2019-03-18T18:43:12",
          "2019-07-23T19:12:00",
          "2019-11-27T19:40:48",
          "2020-04-02T20:09:36",
          "2020-08-07T20:38:24",
          "2020-12-12T21:07:12",
          "2021-04-18T21:36:00",
          "2021-08-23T22:04:48",
          "2021-12-28T22:33:36",
          "2022-05-04T23:02:24",
          "2022-09-08T23:31:12"
         ],
         "y": [
          3,
          5,
          15,
          47,
          54,
          48,
          15,
          34,
          22,
          30,
          7,
          42,
          35,
          7,
          6,
          8,
          7,
          7,
          4,
          4,
          11,
          11,
          3,
          14,
          13,
          9,
          23,
          47,
          58,
          52,
          78,
          90,
          188
         ]
        },
        {
         "hoverinfo": "text",
         "hovertext": [
          "<b>Topic 2</b><br>Words: russia, russians, nato, russias, soviet",
          "<b>Topic 2</b><br>Words: ukraine, sanctions, crimea, ukrainian, zelensky",
          "<b>Topic 2</b><br>Words: sanctions, ukraine, russian, putin, russias",
          "<b>Topic 2</b><br>Words: ukraine, crimea, ukrainian, kiev, elections",
          "<b>Topic 2</b><br>Words: russian, putin, kremlin, chechnya, litvinenko",
          "<b>Topic 2</b><br>Words: prague, russian citizen, kolmakov, czech police, czech",
          "<b>Topic 2</b><br>Words: sanctions, cell site simulators, crimea, texts, kirienko",
          "<b>Topic 2</b><br>Words: sanctions, bill, putin, new sanctions, legislation",
          "<b>Topic 2</b><br>Words: russian, russia, moscow, putin, kremlin",
          "<b>Topic 2</b><br>Words: putin, russian, sanctions, deripaska, kremlin",
          "<b>Topic 2</b><br>Words: torshin, putin, nato, president putin, russia",
          "<b>Topic 2</b><br>Words: corruption, anticorruption, avoid corruption charges, kholodnytsky, suspects avoid corruption",
          "<b>Topic 2</b><br>Words: climate crisis, climate, aid, crops, enough eat",
          "<b>Topic 2</b><br>Words: polish soldiers, russian propaganda, warsaw, kremlin, letter name schools rector",
          "<b>Topic 2</b><br>Words: belarus, russian, lukashenko, moscow, poisoning",
          "<b>Topic 2</b><br>Words: navalnys, moscow, russian, kremlin, putin",
          "<b>Topic 2</b><br>Words: putin, belarus, summit, minsk, lukashenko",
          "<b>Topic 2</b><br>Words: ukraine, belarus, nato, ukrainian, putin",
          "<b>Topic 2</b><br>Words: ukraine, ukrainian, putin, russias, nato",
          "<b>Topic 2</b><br>Words: ukraine, russian, ukrainian, russia, nato",
          "<b>Topic 2</b><br>Words: russian, ukraine, ukrainian, russia, ukraines"
         ],
         "marker": {
          "color": "#009E73"
         },
         "mode": "lines",
         "name": "2_russian_ukraine_ukrainian_putin",
         "type": "scatter",
         "x": [
          "2012-08-08T09:36:00",
          "2013-12-29T11:31:12",
          "2014-05-05T12:00:00",
          "2014-09-09T12:28:48",
          "2015-01-14T12:57:36",
          "2016-10-10T15:21:36",
          "2017-02-14T15:50:24",
          "2017-06-21T16:19:12",
          "2017-10-26T16:48:00",
          "2018-03-02T17:16:48",
          "2018-07-07T17:45:36",
          "2018-11-11T18:14:24",
          "2019-07-23T19:12:00",
          "2020-04-02T20:09:36",
          "2020-08-07T20:38:24",
          "2020-12-12T21:07:12",
          "2021-04-18T21:36:00",
          "2021-08-23T22:04:48",
          "2021-12-28T22:33:36",
          "2022-05-04T23:02:24",
          "2022-09-08T23:31:12"
         ],
         "y": [
          9,
          5,
          9,
          3,
          2,
          2,
          2,
          6,
          9,
          2,
          5,
          1,
          2,
          1,
          6,
          21,
          28,
          42,
          341,
          162,
          151
         ]
        },
        {
         "hoverinfo": "text",
         "hovertext": [
          "<b>Topic 3</b><br>Words: songs, 1950s, twitty said, teen idol, rock roll",
          "<b>Topic 3</b><br>Words: ticketmaster, ticket prices, said pearl jam, said pearl, promoters ticketmaster",
          "<b>Topic 3</b><br>Words: jackson, michael jackson, michael, jacksons, motown",
          "<b>Topic 3</b><br>Words: next elvis guitar, city putting vintage trove rock, numerous photos beatles, beatles brink stardom another gem, lennons last car",
          "<b>Topic 3</b><br>Words: elmore, raylan, writing, armenian, book",
          "<b>Topic 3</b><br>Words: aubry, berry, aubry said, driveway, mr martinez",
          "<b>Topic 3</b><br>Words: gere, cnn, richard gere, arbitrage, mirror",
          "<b>Topic 3</b><br>Words: cannes, adele, life adele, spielberg, kechiche",
          "<b>Topic 3</b><br>Words: gayes, blurred lines, give it up, songs, marvin gayes",
          "<b>Topic 3</b><br>Words: awards hollywood california march 2014, awards hollywood california march, hollywood california march 2014, academy awards hollywood california march, 86th academy awards hollywood california",
          "<b>Topic 3</b><br>Words: walters, view, hasselbeck, barbara walters, patton",
          "<b>Topic 3</b><br>Words: thicke, says stewart, daily show, mcgrail, film",
          "<b>Topic 3</b><br>Words: rape scene, game thrones, thrones, sansa, rosie",
          "<b>Topic 3</b><br>Words: behar, joy behar, joy behar questioned, miss colorado, joyvbehar michcoll",
          "<b>Topic 3</b><br>Words: apocalypse, book revelation, revelation, force awakens, awakens",
          "<b>Topic 3</b><br>Words: mustang, box office, captain america, civil war, ergven said",
          "<b>Topic 3</b><br>Words: nashville, freddie, music, oyelowo, kubrick",
          "<b>Topic 3</b><br>Words: cecil beaton, jaggers, the cecil beaton studio, performance credit the cecil beaton, performance credit the",
          "<b>Topic 3</b><br>Words: magnus, the beatles, beatles, women, coachella",
          "<b>Topic 3</b><br>Words: thrones, game thrones, hbo, schrager, thomas",
          "<b>Topic 3</b><br>Words: trapp, cassidy, lodge, von trapp, last jedi",
          "<b>Topic 3</b><br>Words: jackson, michael, michael jackson, women, jacksons",
          "<b>Topic 3</b><br>Words: gunn, soul, country music, songs, guardians",
          "<b>Topic 3</b><br>Words: netflix, oscar, lee, gunn, marvel",
          "<b>Topic 3</b><br>Words: thrones, game thrones, arya, lannister, winterfell",
          "<b>Topic 3</b><br>Words: chrisley, swift, woodstock, pak said, former employee",
          "<b>Topic 3</b><br>Words: academy, parasite, films, time, awards",
          "<b>Topic 3</b><br>Words: film, movies, song, music, time",
          "<b>Topic 3</b><br>Words: film, tenet, black, theater, trebek",
          "<b>Topic 3</b><br>Words: film, black, actor, nominated, ap",
          "<b>Topic 3</b><br>Words: film, spears, movie, oscars, movies",
          "<b>Topic 3</b><br>Words: film, spears, films, movie, million",
          "<b>Topic 3</b><br>Words: reutersmaria alejandra, award, film, awards, oscar",
          "<b>Topic 3</b><br>Words: screening film, poses screening film, international san diego, cannes, san diego california",
          "<b>Topic 3</b><br>Words: album, said, swift, ticketmaster, lewis"
         ],
         "marker": {
          "color": "#F0E442"
         },
         "mode": "lines",
         "name": "3_time_movie_actor_also",
         "type": "scatter",
         "x": [
          "1993-02-16T06:43:12",
          "1994-03-04T08:09:36",
          "2009-06-22T05:16:48",
          "2011-07-24T08:09:36",
          "2011-11-28T08:38:24",
          "2012-08-08T09:36:00",
          "2012-12-13T10:04:48",
          "2013-04-19T10:33:36",
          "2013-08-24T11:02:24",
          "2013-12-29T11:31:12",
          "2014-05-05T12:00:00",
          "2014-09-09T12:28:48",
          "2015-01-14T12:57:36",
          "2015-05-21T13:26:24",
          "2015-09-25T13:55:12",
          "2016-01-30T14:24:00",
          "2016-06-05T14:52:48",
          "2016-10-10T15:21:36",
          "2017-02-14T15:50:24",
          "2017-06-21T16:19:12",
          "2017-10-26T16:48:00",
          "2018-03-02T17:16:48",
          "2018-07-07T17:45:36",
          "2018-11-11T18:14:24",
          "2019-03-18T18:43:12",
          "2019-07-23T19:12:00",
          "2019-11-27T19:40:48",
          "2020-04-02T20:09:36",
          "2020-08-07T20:38:24",
          "2020-12-12T21:07:12",
          "2021-04-18T21:36:00",
          "2021-08-23T22:04:48",
          "2021-12-28T22:33:36",
          "2022-05-04T23:02:24",
          "2022-09-08T23:31:12"
         ],
         "y": [
          1,
          1,
          4,
          1,
          3,
          9,
          1,
          2,
          4,
          5,
          7,
          7,
          2,
          3,
          5,
          3,
          12,
          9,
          11,
          11,
          22,
          9,
          8,
          11,
          50,
          9,
          63,
          73,
          67,
          78,
          38,
          34,
          56,
          34,
          42
         ]
        },
        {
         "hoverinfo": "text",
         "hovertext": [
          "<b>Topic 4</b><br>Words: oil, natural gas, gulf, gas prices, gallon",
          "<b>Topic 4</b><br>Words: prices, exxon, gas prices, gasoline, inflation",
          "<b>Topic 4</b><br>Words: oil, oil prices, billion barrels, petroleum, opec",
          "<b>Topic 4</b><br>Words: million barrels, barrels oil, million barrels oil, department energy, crude oil",
          "<b>Topic 4</b><br>Words: natural gas, russia, prices, gazprom, oil",
          "<b>Topic 4</b><br>Words: oil, iraq, exports, prices, demand",
          "<b>Topic 4</b><br>Words: oil, shale, opec, oil prices, production",
          "<b>Topic 4</b><br>Words: oil, gazprom, texas, barrel, iran",
          "<b>Topic 4</b><br>Words: oil, oil prices, opec, production, crude",
          "<b>Topic 4</b><br>Words: oil, prices, oil prices, opec, iran",
          "<b>Topic 4</b><br>Words: oil, opec, nigeria, oil prices, production cut",
          "<b>Topic 4</b><br>Words: exxon, sanctions, syrian government, waiver sanctions, exxon would",
          "<b>Topic 4</b><br>Words: sanctions, pipeline, concerns, impact energy, natural gas",
          "<b>Topic 4</b><br>Words: barrel oil, barrels per day first months, millions barrels per day first, millions barrels per day, barrels per day first",
          "<b>Topic 4</b><br>Words: permian basin, prices, shale, oil prices, texas",
          "<b>Topic 4</b><br>Words: refineries, barrels per day, barrels per, million barrels, million barrels per day",
          "<b>Topic 4</b><br>Words: oil, opec, oil prices, bear market, million barrels per day",
          "<b>Topic 4</b><br>Words: opec, prices, million barrels per day, million barrels per, barrels per day",
          "<b>Topic 4</b><br>Words: oil gas, bayerngas gmbh, gmbh, gmbh stadtwerke mnchen, bayerngas gmbh stadtwerke",
          "<b>Topic 4</b><br>Words: oil, stocks, energy sector, barrels per, excess supply",
          "<b>Topic 4</b><br>Words: chesapeake, million barrels, prices, barrels per day, barrels per",
          "<b>Topic 4</b><br>Words: consumption, gas, jet fuel, power producers, gasfired",
          "<b>Topic 4</b><br>Words: prices, opec, bcf, fiveyear average, oil",
          "<b>Topic 4</b><br>Words: quotas, imports, refiners, opec, demand",
          "<b>Topic 4</b><br>Words: oil, prices, opec, reuters, natural gas",
          "<b>Topic 4</b><br>Words: oil, russia, reuters, sanctions, eu",
          "<b>Topic 4</b><br>Words: oil, prices, reuters, russia, euros",
          "<b>Topic 4</b><br>Words: gas, oil, energy, prices, lng"
         ],
         "marker": {
          "color": "#D55E00"
         },
         "mode": "lines",
         "name": "4_oil_prices_reuters_russia",
         "type": "scatter",
         "x": [
          "2012-08-08T09:36:00",
          "2012-12-13T10:04:48",
          "2013-04-19T10:33:36",
          "2013-08-24T11:02:24",
          "2013-12-29T11:31:12",
          "2014-05-05T12:00:00",
          "2014-09-09T12:28:48",
          "2015-01-14T12:57:36",
          "2015-05-21T13:26:24",
          "2015-09-25T13:55:12",
          "2016-01-30T14:24:00",
          "2017-02-14T15:50:24",
          "2017-06-21T16:19:12",
          "2017-10-26T16:48:00",
          "2018-03-02T17:16:48",
          "2018-07-07T17:45:36",
          "2018-11-11T18:14:24",
          "2019-03-18T18:43:12",
          "2019-07-23T19:12:00",
          "2019-11-27T19:40:48",
          "2020-04-02T20:09:36",
          "2020-08-07T20:38:24",
          "2020-12-12T21:07:12",
          "2021-04-18T21:36:00",
          "2021-08-23T22:04:48",
          "2021-12-28T22:33:36",
          "2022-05-04T23:02:24",
          "2022-09-08T23:31:12"
         ],
         "y": [
          10,
          3,
          7,
          2,
          6,
          10,
          26,
          10,
          19,
          9,
          3,
          2,
          1,
          5,
          4,
          5,
          1,
          2,
          1,
          4,
          3,
          2,
          5,
          26,
          45,
          145,
          90,
          180
         ]
        },
        {
         "hoverinfo": "text",
         "hovertext": [
          "<b>Topic 5</b><br>Words: nan, , , , ",
          "<b>Topic 5</b><br>Words: nan, nan nan, , , ",
          "<b>Topic 5</b><br>Words: nan, , , , ",
          "<b>Topic 5</b><br>Words: nan, , , , ",
          "<b>Topic 5</b><br>Words: nan, nan nan, nan nan nan, , ",
          "<b>Topic 5</b><br>Words: nan, , , , ",
          "<b>Topic 5</b><br>Words: nan, nan nan, nan nan nan, nan nan nan nan, nan nan nan nan nan",
          "<b>Topic 5</b><br>Words: nan nan, nan, nan nan nan, nan nan nan nan, nan nan nan nan nan",
          "<b>Topic 5</b><br>Words: nan, nan nan, nan nan nan, nan nan nan nan, nan nan nan nan nan",
          "<b>Topic 5</b><br>Words: nan, nan nan, nan nan nan, nan nan nan nan, nan nan nan nan nan",
          "<b>Topic 5</b><br>Words: nan, nan nan, , , ",
          "<b>Topic 5</b><br>Words: nan, , , , ",
          "<b>Topic 5</b><br>Words: nan, nan nan, nan nan nan, , ",
          "<b>Topic 5</b><br>Words: nan, nan nan, nan nan nan, , ",
          "<b>Topic 5</b><br>Words: nan, nan nan, nan nan nan, nan nan nan nan, nan nan nan nan nan",
          "<b>Topic 5</b><br>Words: nan, nan nan, nan nan nan, nan nan nan nan, nan nan nan nan nan",
          "<b>Topic 5</b><br>Words: nan, nan nan, nan nan nan, nan nan nan nan, nan nan nan nan nan",
          "<b>Topic 5</b><br>Words: nan, nan nan, nan nan nan, nan nan nan nan, nan nan nan nan nan",
          "<b>Topic 5</b><br>Words: nan, nan nan, nan nan nan, nan nan nan nan, nan nan nan nan nan",
          "<b>Topic 5</b><br>Words: nan, nan nan, nan nan nan, nan nan nan nan, nan nan nan nan nan",
          "<b>Topic 5</b><br>Words: nan, nan nan, nan nan nan, nan nan nan nan, nan nan nan nan nan",
          "<b>Topic 5</b><br>Words: nan, nan nan, nan nan nan, nan nan nan nan, nan nan nan nan nan",
          "<b>Topic 5</b><br>Words: nan, nan nan, nan nan nan, nan nan nan nan, nan nan nan nan nan",
          "<b>Topic 5</b><br>Words: nan, nan nan, nan nan nan, nan nan nan nan, nan nan nan nan nan",
          "<b>Topic 5</b><br>Words: nan, nan nan, nan nan nan, nan nan nan nan, nan nan nan nan nan",
          "<b>Topic 5</b><br>Words: nan, nan nan, nan nan nan, nan nan nan nan, ",
          "<b>Topic 5</b><br>Words: nan, nan nan, , , ",
          "<b>Topic 5</b><br>Words: nan, nan nan, , , ",
          "<b>Topic 5</b><br>Words: this beach name nan nan, beach name nan nan, beach name nan nan nan, how this beach name nan, name nan nan nan nan",
          "<b>Topic 5</b><br>Words: nan, nan nan, nan nan nan, , ",
          "<b>Topic 5</b><br>Words: nan, nan nan, nan nan nan, , ",
          "<b>Topic 5</b><br>Words: nan, , , , ",
          "<b>Topic 5</b><br>Words: nan, , , , ",
          "<b>Topic 5</b><br>Words: nan, nan nan, nan nan nan, nan nan nan nan, nan nan nan nan nan",
          "<b>Topic 5</b><br>Words: nan, nan nan, nan nan nan, nan nan nan nan, nan nan nan nan nan",
          "<b>Topic 5</b><br>Words: nan, nan nan, , , ",
          "<b>Topic 5</b><br>Words: nan, nan nan, , , ",
          "<b>Topic 5</b><br>Words: nan, nan nan, nan nan nan, nan nan nan nan, ",
          "<b>Topic 5</b><br>Words: nan, nan nan, , , ",
          "<b>Topic 5</b><br>Words: nan, , , , ",
          "<b>Topic 5</b><br>Words: nan, , , , ",
          "<b>Topic 5</b><br>Words: nan, , , , "
         ],
         "marker": {
          "color": "#0072B2"
         },
         "mode": "lines",
         "name": "5_how this beach name nan_this beach nam...",
         "type": "scatter",
         "x": [
          "1997-12-30T13:26:24",
          "2000-10-11T17:16:48",
          "2002-03-03T19:12:00",
          "2003-07-24T21:07:12",
          "2006-09-10T01:26:24",
          "2008-06-06T03:50:24",
          "2008-10-11T04:19:12",
          "2009-02-15T04:48:00",
          "2009-06-22T05:16:48",
          "2009-10-27T05:45:36",
          "2010-07-08T06:43:12",
          "2011-03-19T07:40:48",
          "2011-07-24T08:09:36",
          "2011-11-28T08:38:24",
          "2012-04-03T09:07:12",
          "2012-08-08T09:36:00",
          "2012-12-13T10:04:48",
          "2013-04-19T10:33:36",
          "2013-08-24T11:02:24",
          "2013-12-29T11:31:12",
          "2014-05-05T12:00:00",
          "2014-09-09T12:28:48",
          "2015-01-14T12:57:36",
          "2015-05-21T13:26:24",
          "2015-09-25T13:55:12",
          "2016-01-30T14:24:00",
          "2016-06-05T14:52:48",
          "2016-10-10T15:21:36",
          "2017-10-26T16:48:00",
          "2018-03-02T17:16:48",
          "2018-07-07T17:45:36",
          "2018-11-11T18:14:24",
          "2019-03-18T18:43:12",
          "2019-07-23T19:12:00",
          "2019-11-27T19:40:48",
          "2020-04-02T20:09:36",
          "2020-08-07T20:38:24",
          "2020-12-12T21:07:12",
          "2021-04-18T21:36:00",
          "2021-08-23T22:04:48",
          "2021-12-28T22:33:36",
          "2022-05-04T23:02:24"
         ],
         "y": [
          1,
          2,
          1,
          1,
          3,
          1,
          112,
          198,
          17,
          27,
          2,
          1,
          3,
          3,
          23,
          24,
          31,
          9,
          14,
          9,
          11,
          12,
          6,
          9,
          7,
          4,
          2,
          2,
          16,
          3,
          3,
          1,
          1,
          5,
          10,
          2,
          2,
          5,
          2,
          1,
          1,
          1
         ]
        },
        {
         "hoverinfo": "text",
         "hovertext": [
          "<b>Topic 6</b><br>Words: valle nevado, mountain resort, resorts, ski, revelstoke mountain resort",
          "<b>Topic 6</b><br>Words: olympic, olympics, athletes, ioc, will see sport",
          "<b>Topic 6</b><br>Words: heroes, make mistakes, parenting, kids, heroes make",
          "<b>Topic 6</b><br>Words: olympics, added olympics, winter olympics, skiing, first winter olympics",
          "<b>Topic 6</b><br>Words: march 15 2014, february 20 2014, olympic, games, square kiev february 20 2014",
          "<b>Topic 6</b><br>Words: brisbane, london november 15 2014, international rugby union match, brisbane november, international rugby union",
          "<b>Topic 6</b><br>Words: abdullah, usoc, usa weightlifting, kg, iwf rules",
          "<b>Topic 6</b><br>Words: mancuso, thumb injuries, leo bear, injuries, us ski",
          "<b>Topic 6</b><br>Words: sumo, stables, buckton, mckirdycnn, ryogoku",
          "<b>Topic 6</b><br>Words: maroulis, olympic, olympics, yoshida, robot",
          "<b>Topic 6</b><br>Words: downhill title, world championships, cup downhill, world cup downhill, vonns",
          "<b>Topic 6</b><br>Words: joshua, meters, ski, bungee, bridge",
          "<b>Topic 6</b><br>Words: ski, slalom, olympic, lindsey vonn, olympics",
          "<b>Topic 6</b><br>Words: ski, skiing, st moritz, moritz, downhill",
          "<b>Topic 6</b><br>Words: guerrero, guerreros, ban, cup peru, world cup peru",
          "<b>Topic 6</b><br>Words: biles, olympic, championships, slalom, world championships",
          "<b>Topic 6</b><br>Words: ski, resort, worlds best, best ski, chalet",
          "<b>Topic 6</b><br>Words: phelps, depression, mental health, phelps said, michael phelps",
          "<b>Topic 6</b><br>Words: ikon, ski, judo, resorts, olympic",
          "<b>Topic 6</b><br>Words: olympics, tokyo 2020, ioc, postponed, coronavirus",
          "<b>Topic 6</b><br>Words: sports, ngbs, olympic, radcliffe, olympics",
          "<b>Topic 6</b><br>Words: olympic, loomis, olympics, world record, antidoping",
          "<b>Topic 6</b><br>Words: olympic, olympics, ski, keller, athletes",
          "<b>Topic 6</b><br>Words: olympic, biles, olympics, athletes, gymnastics",
          "<b>Topic 6</b><br>Words: peng, olympics, ioc, olympic, beijing",
          "<b>Topic 6</b><br>Words: womens, olympic, olympics, skating, beijing",
          "<b>Topic 6</b><br>Words: action womens, 2022 eurovision song, 2022 eurovision song contest, 2022 eurovision, contest turin italy",
          "<b>Topic 6</b><br>Words: olympic, olympics, ioc, boxing, olympic committee"
         ],
         "marker": {
          "color": "#CC79A7"
         },
         "mode": "lines",
         "name": "6_olympic_olympics_womens_athletes",
         "type": "scatter",
         "x": [
          "2011-11-28T08:38:24",
          "2012-04-03T09:07:12",
          "2012-08-08T09:36:00",
          "2013-08-24T11:02:24",
          "2013-12-29T11:31:12",
          "2014-09-09T12:28:48",
          "2015-01-14T12:57:36",
          "2015-09-25T13:55:12",
          "2016-01-30T14:24:00",
          "2016-06-05T14:52:48",
          "2016-10-10T15:21:36",
          "2017-02-14T15:50:24",
          "2017-06-21T16:19:12",
          "2017-10-26T16:48:00",
          "2018-03-02T17:16:48",
          "2018-07-07T17:45:36",
          "2018-11-11T18:14:24",
          "2019-03-18T18:43:12",
          "2019-07-23T19:12:00",
          "2019-11-27T19:40:48",
          "2020-04-02T20:09:36",
          "2020-08-07T20:38:24",
          "2020-12-12T21:07:12",
          "2021-04-18T21:36:00",
          "2021-08-23T22:04:48",
          "2021-12-28T22:33:36",
          "2022-05-04T23:02:24",
          "2022-09-08T23:31:12"
         ],
         "y": [
          1,
          22,
          1,
          4,
          6,
          2,
          2,
          1,
          4,
          4,
          1,
          5,
          2,
          27,
          2,
          7,
          15,
          1,
          7,
          18,
          6,
          7,
          13,
          51,
          13,
          126,
          30,
          61
         ]
        },
        {
         "hoverinfo": "text",
         "hovertext": [
          "<b>Topic 7</b><br>Words: convertible, compact, cars, compact sport utilities, cute utes",
          "<b>Topic 7</b><br>Words: ford explorer, ford, years preredesign ford explorer sales, fuel economy 18 city, founded 100 years ago year",
          "<b>Topic 7</b><br>Words: consumer reports, toll, lamborghini, mustang, ezpass",
          "<b>Topic 7</b><br>Words: viper, dodge, dodge viper production since, ducts gone though dodge name, for first time viper traction",
          "<b>Topic 7</b><br>Words: japanese, automakers, gm, japanese cars, dealerships",
          "<b>Topic 7</b><br>Words: tesla, cars, superchargers, fisker automotive, general motors",
          "<b>Topic 7</b><br>Words: corvette, cars, ford, automakers, corvettes",
          "<b>Topic 7</b><br>Words: ford, sales, cadillac, nissan, automaker",
          "<b>Topic 7</b><br>Words: tesla, cars, new jersey, teslas, sales",
          "<b>Topic 7</b><br>Words: tesla, car, dodge, vehicles, factory",
          "<b>Topic 7</b><br>Words: cars, suvs, horsepower, mustang, vehicles like",
          "<b>Topic 7</b><br>Words: vans, batteries, tesla, kimbal musk, teslas",
          "<b>Topic 7</b><br>Words: volkswagen, china, growth, volkswagen vlkaf, toyota tm",
          "<b>Topic 7</b><br>Words: tesla, musk said, starship technologies, the robots, model xs",
          "<b>Topic 7</b><br>Words: aircraft, cars, icon a5, teslas, skis",
          "<b>Topic 7</b><br>Words: twitter, salesforce would, benioff, deliberations, francisco editing david gregorioour standards",
          "<b>Topic 7</b><br>Words: cars, bmw, bolt, tesla, tesla model",
          "<b>Topic 7</b><br>Words: tesla, cars, india, company, elon musk",
          "<b>Topic 7</b><br>Words: tesla, musk, cars, teslas, elon musk",
          "<b>Topic 7</b><br>Words: tesla, musk, cars, teslas, boring company",
          "<b>Topic 7</b><br>Words: uber, flying cars, tesla, seem like glorified helicopters uber, helicopters uber believes",
          "<b>Topic 7</b><br>Words: musk, tesla, china, bmw, teslas",
          "<b>Topic 7</b><br>Words: brexit, china, sunderland, tariffs, sales china",
          "<b>Topic 7</b><br>Words: tesla, musk, cash, stock, rivian",
          "<b>Topic 7</b><br>Words: cars, tesla, fast chargers, electric cars, stations",
          "<b>Topic 7</b><br>Words: tesla, cars, china, factory, industry",
          "<b>Topic 7</b><br>Words: billion yen, yen, billion honda, honda reported, quarter ended",
          "<b>Topic 7</b><br>Words: medicare, michigans economy, gm chrysler, medicare recipients, drug prices",
          "<b>Topic 7</b><br>Words: tesla, motors, mclaren, billion, gm",
          "<b>Topic 7</b><br>Words: gm, lordstown, chain, standards, 2022 reuters",
          "<b>Topic 7</b><br>Words: tesla, electric vehicles, electric vehicle, billion, twitter",
          "<b>Topic 7</b><br>Words: tesla, musk, twitter, production, shares",
          "<b>Topic 7</b><br>Words: musk, tesla, reuters, billion, musks",
          "<b>Topic 7</b><br>Words: musk, tesla, billion, ev, shares"
         ],
         "marker": {
          "color": "#E69F00"
         },
         "mode": "lines",
         "name": "7_tesla_musk_cars_billion",
         "type": "scatter",
         "x": [
          "2011-03-19T07:40:48",
          "2011-07-24T08:09:36",
          "2011-11-28T08:38:24",
          "2012-04-03T09:07:12",
          "2012-08-08T09:36:00",
          "2012-12-13T10:04:48",
          "2013-04-19T10:33:36",
          "2013-08-24T11:02:24",
          "2013-12-29T11:31:12",
          "2014-05-05T12:00:00",
          "2014-09-09T12:28:48",
          "2015-01-14T12:57:36",
          "2015-05-21T13:26:24",
          "2015-09-25T13:55:12",
          "2016-01-30T14:24:00",
          "2016-06-05T14:52:48",
          "2016-10-10T15:21:36",
          "2017-02-14T15:50:24",
          "2017-06-21T16:19:12",
          "2017-10-26T16:48:00",
          "2018-03-02T17:16:48",
          "2018-07-07T17:45:36",
          "2018-11-11T18:14:24",
          "2019-03-18T18:43:12",
          "2019-07-23T19:12:00",
          "2019-11-27T19:40:48",
          "2020-04-02T20:09:36",
          "2020-08-07T20:38:24",
          "2020-12-12T21:07:12",
          "2021-04-18T21:36:00",
          "2021-08-23T22:04:48",
          "2021-12-28T22:33:36",
          "2022-05-04T23:02:24",
          "2022-09-08T23:31:12"
         ],
         "y": [
          4,
          2,
          6,
          3,
          12,
          7,
          12,
          6,
          14,
          5,
          5,
          6,
          4,
          2,
          4,
          1,
          3,
          12,
          12,
          22,
          3,
          4,
          3,
          7,
          3,
          8,
          1,
          4,
          13,
          20,
          23,
          40,
          47,
          108
         ]
        },
        {
         "hoverinfo": "text",
         "hovertext": [
          "<b>Topic 8</b><br>Words: mexico, troops, cartels, fight mexican, perrys comments",
          "<b>Topic 8</b><br>Words: cartels, cartel, mexico, zetas, laredo",
          "<b>Topic 8</b><br>Words: rangel said, student pilots, tsa, illegal immigrants, immigration",
          "<b>Topic 8</b><br>Words: immigration, entrepreneurs, immigration system, visas, immigration officials",
          "<b>Topic 8</b><br>Words: gang, compromise, immigration reform, bipartisan, senators",
          "<b>Topic 8</b><br>Words: immigration reform, reform, gang eight, senate, border security",
          "<b>Topic 8</b><br>Words: immigration, immigration reform, immigrants, hispanic voters, unauthorized immigrants",
          "<b>Topic 8</b><br>Words: exporting, ickert, sbea, small business, chief agri group",
          "<b>Topic 8</b><br>Words: immigration, vargas, children, obama, undocumented",
          "<b>Topic 8</b><br>Words: geir program, universities, entrepreneur residence, startup said gupta, foreign entrepreneurs",
          "<b>Topic 8</b><br>Words: entrepreneurs, h1b, applicants, applicants get, must encourage",
          "<b>Topic 8</b><br>Words: immigration plan, aca told, related donald trump, aca told cnn, undocumented immigrants",
          "<b>Topic 8</b><br>Words: st louis, attract immigrants, refugees, baltimore, mayors office",
          "<b>Topic 8</b><br>Words: palmer, visa application, wage, rosen, prevailing wage",
          "<b>Topic 8</b><br>Words: terror, terror states, foreign muslims, wouldnt bother me, banning foreign muslims",
          "<b>Topic 8</b><br>Words: trump, immigration, mexico, executive order, homeland security",
          "<b>Topic 8</b><br>Words: border, immigration, wall, enforcement, trumps",
          "<b>Topic 8</b><br>Words: daca, immigration, would, trump, congress",
          "<b>Topic 8</b><br>Words: daca, immigration, visa, congress, democrats",
          "<b>Topic 8</b><br>Words: immigration, policy, administrations, separations, sessions",
          "<b>Topic 8</b><br>Words: immigration, citizenship, border, birthright citizenship, asylum",
          "<b>Topic 8</b><br>Words: border, national emergency, immigration, wall, shutdown",
          "<b>Topic 8</b><br>Words: immigration, raids, dhs, enforcement, white house",
          "<b>Topic 8</b><br>Words: asylum, injunction, tigar, claim asylum, judge",
          "<b>Topic 8</b><br>Words: immigration, mexico, asylum, rule, the facts",
          "<b>Topic 8</b><br>Words: children, daca, immigration, international students, daca recipients",
          "<b>Topic 8</b><br>Words: trump administration, immigration, dhs, supreme court, asylum",
          "<b>Topic 8</b><br>Words: border, children, immigration, biden, border patrol",
          "<b>Topic 8</b><br>Words: border, harris, immigration, daca, guatemala",
          "<b>Topic 8</b><br>Words: migrants, del rio, haitian, haitians, haiti",
          "<b>Topic 8</b><br>Words: border, tijuana, migrants, mexico amid russian invasion, fled mexico amid russian",
          "<b>Topic 8</b><br>Words: migrants, border, united states mexico, mexico roma, roma texas",
          "<b>Topic 8</b><br>Words: border, asylum, usmexico border, states, refugee"
         ],
         "marker": {
          "color": "#56B4E9"
         },
         "mode": "lines",
         "name": "8_immigration_children_trump_immigrants",
         "type": "scatter",
         "x": [
          "2011-07-24T08:09:36",
          "2011-11-28T08:38:24",
          "2012-04-03T09:07:12",
          "2012-08-08T09:36:00",
          "2012-12-13T10:04:48",
          "2013-04-19T10:33:36",
          "2013-08-24T11:02:24",
          "2013-12-29T11:31:12",
          "2014-05-05T12:00:00",
          "2014-09-09T12:28:48",
          "2015-01-14T12:57:36",
          "2015-05-21T13:26:24",
          "2015-09-25T13:55:12",
          "2016-01-30T14:24:00",
          "2016-06-05T14:52:48",
          "2016-10-10T15:21:36",
          "2017-02-14T15:50:24",
          "2017-06-21T16:19:12",
          "2017-10-26T16:48:00",
          "2018-03-02T17:16:48",
          "2018-07-07T17:45:36",
          "2018-11-11T18:14:24",
          "2019-03-18T18:43:12",
          "2019-07-23T19:12:00",
          "2019-11-27T19:40:48",
          "2020-04-02T20:09:36",
          "2020-08-07T20:38:24",
          "2020-12-12T21:07:12",
          "2021-04-18T21:36:00",
          "2021-08-23T22:04:48",
          "2021-12-28T22:33:36",
          "2022-05-04T23:02:24",
          "2022-09-08T23:31:12"
         ],
         "y": [
          1,
          1,
          2,
          3,
          7,
          3,
          2,
          1,
          10,
          1,
          2,
          2,
          1,
          2,
          1,
          20,
          27,
          21,
          5,
          48,
          6,
          12,
          21,
          9,
          16,
          23,
          9,
          58,
          29,
          21,
          17,
          28,
          11
         ]
        },
        {
         "hoverinfo": "text",
         "hovertext": [
          "<b>Topic 9</b><br>Words: amoeba, naegleria fowleri, infection, parasite, amoebic meningoencephalitis",
          "<b>Topic 9</b><br>Words: measles, cancer, cdc, measles cases, measles virus",
          "<b>Topic 9</b><br>Words: mmr vaccine, vaccine, beliefs continue, mmr vaccine autism, risk developing autism",
          "<b>Topic 9</b><br>Words: exemptions, parents, vaccines, vaccine exemptions, policies",
          "<b>Topic 9</b><br>Words: autism, measles, vaccines, kennedy, vaccine",
          "<b>Topic 9</b><br>Words: veins, varicose veins, vein, measles cases, thrombosis",
          "<b>Topic 9</b><br>Words: vaccine, exemptions, measles, nonmedical exemptions, mmr vaccine",
          "<b>Topic 9</b><br>Words: measles, vaccine, children, clark county, mmr vaccine",
          "<b>Topic 9</b><br>Words: measles, cdc, states, unvaccinated, vaccination",
          "<b>Topic 9</b><br>Words: flu shot, pharmacy, pharmacies, pediatricians office, vaccinated pharmacies",
          "<b>Topic 9</b><br>Words: mcconnell, vaccine, treatment vaccine, mcconnell said, gop leader",
          "<b>Topic 9</b><br>Words: vaccine, vaccines, covid19, pfizer, shots",
          "<b>Topic 9</b><br>Words: vaccine, vaccines, doses, covid19, vaccination",
          "<b>Topic 9</b><br>Words: vaccine, vaccinated, vaccines, vaccination, shots",
          "<b>Topic 9</b><br>Words: vaccine, vaccines, vaccinated, shots, boosters",
          "<b>Topic 9</b><br>Words: vaccinated, mandate, shot, vaccination, covid19",
          "<b>Topic 9</b><br>Words: vaccine, booster, vaccines, shots, covid19",
          "<b>Topic 9</b><br>Words: covid19, vaccines, vaccination, primary vaccination, doses"
         ],
         "marker": {
          "color": "#009E73"
         },
         "mode": "lines",
         "name": "9_vaccine_vaccines_covid19_vaccinated",
         "type": "scatter",
         "x": [
          "2013-04-19T10:33:36",
          "2014-05-05T12:00:00",
          "2015-01-14T12:57:36",
          "2015-05-21T13:26:24",
          "2016-10-10T15:21:36",
          "2017-10-26T16:48:00",
          "2018-03-02T17:16:48",
          "2018-11-11T18:14:24",
          "2019-03-18T18:43:12",
          "2019-07-23T19:12:00",
          "2020-04-02T20:09:36",
          "2020-08-07T20:38:24",
          "2020-12-12T21:07:12",
          "2021-04-18T21:36:00",
          "2021-08-23T22:04:48",
          "2021-12-28T22:33:36",
          "2022-05-04T23:02:24",
          "2022-09-08T23:31:12"
         ],
         "y": [
          2,
          3,
          1,
          1,
          2,
          3,
          4,
          13,
          17,
          1,
          2,
          36,
          129,
          77,
          65,
          16,
          15,
          6
         ]
        },
        {
         "hoverinfo": "text",
         "hovertext": [
          "<b>Topic 10</b><br>Words: medicare, republicans, ryan, gop plan, house gop",
          "<b>Topic 10</b><br>Words: retirement, boomers, inevitability says retirement, years this group necessarily want, inevitability says retirement consultant",
          "<b>Topic 10</b><br>Words: cliff, cuts, fiscal cliff, fiscal, romney",
          "<b>Topic 10</b><br>Words: cuts, obama, fiscal, congress, spending cuts",
          "<b>Topic 10</b><br>Words: debt, budget, deficits, gdp, deficit",
          "<b>Topic 10</b><br>Words: shutdown, debt, debt ceiling, ceiling, obamacare",
          "<b>Topic 10</b><br>Words: irs, taxes, retirement, accounts, millennials",
          "<b>Topic 10</b><br>Words: ryu, savings, mortgage, retirement, hopeful small help build savings",
          "<b>Topic 10</b><br>Words: tax, pension, retirement, benefits, retirees",
          "<b>Topic 10</b><br>Words: irs, refund, file, owe, savings",
          "<b>Topic 10</b><br>Words: retirement, 401k, ira, debt, hsa",
          "<b>Topic 10</b><br>Words: retirement, pension, retirees, cuts, taxes",
          "<b>Topic 10</b><br>Words: retirement, social security, income, pension, annuity",
          "<b>Topic 10</b><br>Words: tax plan, spending, debt, clinton, tax returns",
          "<b>Topic 10</b><br>Words: treasury, treasury secretary, tax returns, trump, dont think care all",
          "<b>Topic 10</b><br>Words: tax reform, reform, white house, tax cuts, tax breaks",
          "<b>Topic 10</b><br>Words: tax, tax reform, reform, taxes, deduction",
          "<b>Topic 10</b><br>Words: tax, deduction, taxes, tax reform, tax credit",
          "<b>Topic 10</b><br>Words: deficit, tax cuts, cuts, treasury, tax cut",
          "<b>Topic 10</b><br>Words: mnuchin, irs, treasury, tax returns, taxes",
          "<b>Topic 10</b><br>Words: tax, tax return, estate tax, taxes, preexisting conditions",
          "<b>Topic 10</b><br>Words: stimulus, irs, payments, checks, file",
          "<b>Topic 10</b><br>Words: taxes, social security, harris, income, payroll",
          "<b>Topic 10</b><br>Words: payments, benefits, income, unemployment, taxes",
          "<b>Topic 10</b><br>Words: tax, trillion, irs, taxes, deficit",
          "<b>Topic 10</b><br>Words: debt, debt limit, mcconnell, yellen, senate",
          "<b>Topic 10</b><br>Words: irs, child tax, funding, families, child tax credit",
          "<b>Topic 10</b><br>Words: irs, tax returns, paper returns, paper tax returns, taxpayer advocate",
          "<b>Topic 10</b><br>Words: tax, tax returns, salt deduction, deduction, debt"
         ],
         "marker": {
          "color": "#F0E442"
         },
         "mode": "lines",
         "name": "10_cuts_spending_taxes_fiscal",
         "type": "scatter",
         "x": [
          "2011-11-28T08:38:24",
          "2012-04-03T09:07:12",
          "2012-08-08T09:36:00",
          "2012-12-13T10:04:48",
          "2013-04-19T10:33:36",
          "2013-08-24T11:02:24",
          "2013-12-29T11:31:12",
          "2014-05-05T12:00:00",
          "2014-09-09T12:28:48",
          "2015-01-14T12:57:36",
          "2015-05-21T13:26:24",
          "2015-09-25T13:55:12",
          "2016-01-30T14:24:00",
          "2016-06-05T14:52:48",
          "2016-10-10T15:21:36",
          "2017-02-14T15:50:24",
          "2017-06-21T16:19:12",
          "2017-10-26T16:48:00",
          "2018-07-07T17:45:36",
          "2019-03-18T18:43:12",
          "2019-11-27T19:40:48",
          "2020-04-02T20:09:36",
          "2020-08-07T20:38:24",
          "2020-12-12T21:07:12",
          "2021-04-18T21:36:00",
          "2021-08-23T22:04:48",
          "2021-12-28T22:33:36",
          "2022-05-04T23:02:24",
          "2022-09-08T23:31:12"
         ],
         "y": [
          1,
          1,
          90,
          56,
          7,
          20,
          15,
          2,
          9,
          14,
          12,
          16,
          7,
          8,
          2,
          11,
          10,
          9,
          3,
          6,
          3,
          7,
          9,
          15,
          8,
          6,
          6,
          2,
          12
         ]
        },
        {
         "hoverinfo": "text",
         "hovertext": [
          "<b>Topic 11</b><br>Words: palmisano, year towering competitors height 64, first cocaptain jv starting offensive, eighth ceo, dartmouth colleges football",
          "<b>Topic 11</b><br>Words: super bowl, denver, flyover, stadium, metlife stadium",
          "<b>Topic 11</b><br>Words: tressel, youngstown state, ncaa, ohio state, coach",
          "<b>Topic 11</b><br>Words: unlv, ncaa, runnin rebels, long beach, final four",
          "<b>Topic 11</b><br>Words: draft, the rams, picks, overall pick, titans",
          "<b>Topic 11</b><br>Words: rodgers, super bowl li, super bowl, atlanta falcons, rodgers said",
          "<b>Topic 11</b><br>Words: oakland, raiders, stadium, the raiders, the nfl",
          "<b>Topic 11</b><br>Words: mcvay, brady, mvp, defensive player year, touchdowns",
          "<b>Topic 11</b><br>Words: rodgers, ohio state, allegations, strauss, ncaa",
          "<b>Topic 11</b><br>Words: gottfried, ncaa, complimentary admissions, impermissible, nc state",
          "<b>Topic 11</b><br>Words: memphis, tannehill, coach, titans, freshman",
          "<b>Topic 11</b><br>Words: new orleans, baltimore, coach, kansas city, pittsburgh",
          "<b>Topic 11</b><br>Words: nfl, coach, rodgers, titans, ncaa",
          "<b>Topic 11</b><br>Words: yards, titans, nfl, coach, touchdown",
          "<b>Topic 11</b><br>Words: season, coach, brady, nfl, rodgers",
          "<b>Topic 11</b><br>Words: rodgers, packers, athletes, krzyzewski, coach",
          "<b>Topic 11</b><br>Words: yards, season, touchdown, coach, nfl",
          "<b>Topic 11</b><br>Words: coach, rams, bowl, nfl, super bowl",
          "<b>Topic 11</b><br>Words: ncaa, athletes, annual scripps national spelling, annual scripps national, scripps national",
          "<b>Topic 11</b><br>Words: yards, points, season, scored, nfl"
         ],
         "marker": {
          "color": "#D55E00"
         },
         "mode": "lines",
         "name": "11_yards_coach_nfl_points",
         "type": "scatter",
         "x": [
          "2011-03-19T07:40:48",
          "2013-12-29T11:31:12",
          "2014-05-05T12:00:00",
          "2015-01-14T12:57:36",
          "2016-01-30T14:24:00",
          "2016-10-10T15:21:36",
          "2017-02-14T15:50:24",
          "2017-10-26T16:48:00",
          "2018-07-07T17:45:36",
          "2019-03-18T18:43:12",
          "2019-07-23T19:12:00",
          "2019-11-27T19:40:48",
          "2020-04-02T20:09:36",
          "2020-08-07T20:38:24",
          "2020-12-12T21:07:12",
          "2021-04-18T21:36:00",
          "2021-08-23T22:04:48",
          "2021-12-28T22:33:36",
          "2022-05-04T23:02:24",
          "2022-09-08T23:31:12"
         ],
         "y": [
          1,
          2,
          1,
          1,
          1,
          2,
          1,
          1,
          2,
          2,
          3,
          9,
          10,
          47,
          54,
          20,
          42,
          54,
          18,
          95
         ]
        },
        {
         "hoverinfo": "text",
         "hovertext": [
          "<b>Topic 12</b><br>Words: clinton, north korea, clintons, president clinton, pyongyang",
          "<b>Topic 12</b><br>Words: kim, lankov, north korean, kim jong, jong",
          "<b>Topic 12</b><br>Words: north korea, missile, kim jong, north korean, south korean",
          "<b>Topic 12</b><br>Words: schmidt, north korea, google, kim, last week trip",
          "<b>Topic 12</b><br>Words: korea, north korea, ballistic missile, kim, koreas",
          "<b>Topic 12</b><br>Words: april 29 2014, 29 2014, april 29, march 30 2014, march 30",
          "<b>Topic 12</b><br>Words: koreas internet, north koreas internet, north koreas, north korea, north koreans",
          "<b>Topic 12</b><br>Words: thaad, missile, missiles, korean, north korea",
          "<b>Topic 12</b><br>Words: korea, korean, north korea, south korea, icbm",
          "<b>Topic 12</b><br>Words: north korea, missile, north koreas, uss, pyongyang",
          "<b>Topic 12</b><br>Words: north korea, missile, koreas, north koreas, north korean",
          "<b>Topic 12</b><br>Words: north korea, north korean, nuclear, missile, pyongyang",
          "<b>Topic 12</b><br>Words: north korea, kim jong, nuclear, bolton, north korean",
          "<b>Topic 12</b><br>Words: g20, world, cold war, american exceptionalism, cold war china",
          "<b>Topic 12</b><br>Words: korean, reporters, press secretary, north korean, grishams",
          "<b>Topic 12</b><br>Words: north korea, kim, pyongyang, north korean, nuclear",
          "<b>Topic 12</b><br>Words: north korea, hypersonic weapons, weapons, nuclear, missile",
          "<b>Topic 12</b><br>Words: north korea, transition, nuclear, diplomacy, north koreas",
          "<b>Topic 12</b><br>Words: north korea, sanctions, pyongyang, north koreas, north korean",
          "<b>Topic 12</b><br>Words: korea, south korea, korean, seoul, south korean",
          "<b>Topic 12</b><br>Words: hypersonic, chun, hypersonic weapon, weapons, hypersonic weapons",
          "<b>Topic 12</b><br>Words: missile, north korea, pyongyang, uss harry truman, ballistic missile",
          "<b>Topic 12</b><br>Words: south korea, bataan us navy waspclass, us navy waspclass amphibious, navy waspclass amphibious assault ship, navy waspclass",
          "<b>Topic 12</b><br>Words: korea, north korea, koreas, south korea, south korean"
         ],
         "marker": {
          "color": "#0072B2"
         },
         "mode": "lines",
         "name": "12_korea_north korea_koreas_north korean",
         "type": "scatter",
         "x": [
          "2009-06-22T05:16:48",
          "2012-04-03T09:07:12",
          "2012-08-08T09:36:00",
          "2012-12-13T10:04:48",
          "2013-08-24T11:02:24",
          "2013-12-29T11:31:12",
          "2014-09-09T12:28:48",
          "2016-06-05T14:52:48",
          "2016-10-10T15:21:36",
          "2017-02-14T15:50:24",
          "2017-06-21T16:19:12",
          "2017-10-26T16:48:00",
          "2018-03-02T17:16:48",
          "2018-11-11T18:14:24",
          "2019-03-18T18:43:12",
          "2019-11-27T19:40:48",
          "2020-04-02T20:09:36",
          "2020-08-07T20:38:24",
          "2020-12-12T21:07:12",
          "2021-04-18T21:36:00",
          "2021-08-23T22:04:48",
          "2021-12-28T22:33:36",
          "2022-05-04T23:02:24",
          "2022-09-08T23:31:12"
         ],
         "y": [
          2,
          4,
          14,
          2,
          1,
          3,
          1,
          1,
          10,
          36,
          63,
          25,
          11,
          1,
          2,
          14,
          4,
          2,
          9,
          9,
          6,
          22,
          12,
          43
         ]
        },
        {
         "hoverinfo": "text",
         "hovertext": [
          "<b>Topic 13</b><br>Words: tennis, french open, grand slam, love reputedly, lloyd cupid return double",
          "<b>Topic 13</b><br>Words: federer, wimbledon, tournament, roger federer, outsider wimbledon this",
          "<b>Topic 13</b><br>Words: seed, federer, nadal, wimbledon, tennis",
          "<b>Topic 13</b><br>Words: williams, tennis, serena, australian open, grand slam",
          "<b>Topic 13</b><br>Words: nadal, wimbledon, sharapova, 2011 champion, beat nadal",
          "<b>Topic 13</b><br>Words: agassi, atp, tennis, french open 1998, open 1998",
          "<b>Topic 13</b><br>Words: legend andy murray, jenny packham the dunblane, young boy british sporting legend, local boys would really, lady crowd hes hero hes",
          "<b>Topic 13</b><br>Words: hewitt, tennis, grand slam, australian open, djokovic",
          "<b>Topic 13</b><br>Words: tennis, prize money, equal prize, equal prize money, tournament",
          "<b>Topic 13</b><br>Words: williams, del potro, us open, grand slam, tennis",
          "<b>Topic 13</b><br>Words: tennis, federer, australian open, serena, grand slam",
          "<b>Topic 13</b><br>Words: wimbledon, serena, federer, tennis, grand slam",
          "<b>Topic 13</b><br>Words: williams, federer, australian open, grand slam, vogue",
          "<b>Topic 13</b><br>Words: olympia, williams said, roland garros, garros, roland",
          "<b>Topic 13</b><br>Words: vickery, venus, tennis, us open, serena",
          "<b>Topic 13</b><br>Words: djokovic, tennis, grand slam titles, playing tennis, djokovic said",
          "<b>Topic 13</b><br>Words: federer, wimbledon, federers, federer said, tennis",
          "<b>Topic 13</b><br>Words: tournament, towels, wta, tennis, fans players",
          "<b>Topic 13</b><br>Words: us open, southern open, western southern open, tennis, nadal",
          "<b>Topic 13</b><br>Words: us open, tennis, french open, wta, abuse",
          "<b>Topic 13</b><br>Words: tennis, sports, osaka said, us open, watch read",
          "<b>Topic 13</b><br>Words: tennis, osaka, french open, grand slam, wimbledon",
          "<b>Topic 13</b><br>Words: us open, tennis, grand slam, tournament, murray",
          "<b>Topic 13</b><br>Words: djokovic, djokovics, australian open, novak djokovic, tennis player novak",
          "<b>Topic 13</b><br>Words: tennis, grand slam, wimbledon, nadal, french open",
          "<b>Topic 13</b><br>Words: grand slam, us open, tennis, final, world number"
         ],
         "marker": {
          "color": "#CC79A7"
         },
         "mode": "lines",
         "name": "13_tennis_djokovic_grand slam_us open",
         "type": "scatter",
         "x": [
          "2011-11-28T08:38:24",
          "2012-04-03T09:07:12",
          "2012-08-08T09:36:00",
          "2013-08-24T11:02:24",
          "2014-05-05T12:00:00",
          "2014-09-09T12:28:48",
          "2015-01-14T12:57:36",
          "2015-09-25T13:55:12",
          "2016-01-30T14:24:00",
          "2016-06-05T14:52:48",
          "2016-10-10T15:21:36",
          "2017-06-21T16:19:12",
          "2017-10-26T16:48:00",
          "2018-03-02T17:16:48",
          "2018-07-07T17:45:36",
          "2018-11-11T18:14:24",
          "2019-03-18T18:43:12",
          "2019-11-27T19:40:48",
          "2020-04-02T20:09:36",
          "2020-08-07T20:38:24",
          "2020-12-12T21:07:12",
          "2021-04-18T21:36:00",
          "2021-08-23T22:04:48",
          "2021-12-28T22:33:36",
          "2022-05-04T23:02:24",
          "2022-09-08T23:31:12"
         ],
         "y": [
          1,
          1,
          51,
          3,
          1,
          1,
          1,
          8,
          1,
          10,
          12,
          8,
          3,
          1,
          1,
          1,
          1,
          1,
          3,
          6,
          1,
          26,
          13,
          39,
          65,
          30
         ]
        },
        {
         "hoverinfo": "text",
         "hovertext": [
          "<b>Topic 14</b><br>Words: shamokin may 2014 reutersmark, odessa may 2014 reutersyevgeny, odessa may 2014, odessa may, eastern ukraine may 2014",
          "<b>Topic 14</b><br>Words: soccer match, eastern ukraine may 10, ukraine may 10 2014, eastern ukraine may 10 2014, division bundesliga soccer match",
          "<b>Topic 14</b><br>Words: january 20 2015, february 10 2015, ukraine february 2015, 10 2015, ukraine february",
          "<b>Topic 14</b><br>Words: metro, stations, narodizkiy blue crow media, alexey narodizkiy blue crow media, narodizkiy blue crow",
          "<b>Topic 14</b><br>Words: ukraine, ukraine march, kyiv, region ukraine, kyiv ukraine",
          "<b>Topic 14</b><br>Words: ukraine, region ukraine, ukraine may, kyiv, donetsk",
          "<b>Topic 14</b><br>Words: drones, tanks, drones hit, kamikaze, iranianmade unmanned aerial vehicles"
         ],
         "marker": {
          "color": "#E69F00"
         },
         "mode": "lines",
         "name": "14_ukraine_ukraine march_kyiv_region ukr...",
         "type": "scatter",
         "x": [
          "2013-12-29T11:31:12",
          "2014-05-05T12:00:00",
          "2015-01-14T12:57:36",
          "2018-07-07T17:45:36",
          "2021-12-28T22:33:36",
          "2022-05-04T23:02:24",
          "2022-09-08T23:31:12"
         ],
         "y": [
          1,
          1,
          3,
          1,
          190,
          91,
          2
         ]
        },
        {
         "hoverinfo": "text",
         "hovertext": [
          "<b>Topic 15</b><br>Words: petraeus, broadwell told, paula broadwell, investigation communications, relationship petraeus",
          "<b>Topic 15</b><br>Words: brennan, cia, washington post brennan, 2018 in oped, senate intelligence committee",
          "<b>Topic 15</b><br>Words: cia, 1953 coup, overthrow, 1953, mossadeq government",
          "<b>Topic 15</b><br>Words: watergate, nixon, burglary, tapes, special prosecutor",
          "<b>Topic 15</b><br>Words: feinsteins, interrogations, investigators, chairman sought lay case methodical, check avoided invoking personal dispute",
          "<b>Topic 15</b><br>Words: emails, state department, email, domain, private server",
          "<b>Topic 15</b><br>Words: classified, emails, information, department, intelligence community inspector",
          "<b>Topic 15</b><br>Words: personal email, department, email server, inspector generals, emails",
          "<b>Topic 15</b><br>Words: clinton, campaign, comey, manafort, manaforts",
          "<b>Topic 15</b><br>Words: flynn, intelligence, flynns, hacking, sanctions",
          "<b>Topic 15</b><br>Words: comey, fbi, flynn, investigation, white house",
          "<b>Topic 15</b><br>Words: sessions, stone, fbi, committee, campaign",
          "<b>Topic 15</b><br>Words: fbi, mueller, papadopoulos, manafort, gates",
          "<b>Topic 15</b><br>Words: fbi, investigation, meeting, mueller, committee",
          "<b>Topic 15</b><br>Words: campaign, indictment, security, putin, trumps",
          "<b>Topic 15</b><br>Words: trumps, manafort, fbi, dossier, putin",
          "<b>Topic 15</b><br>Words: mueller, muellers, special counsel, obstruction, attorney general",
          "<b>Topic 15</b><br>Words: election security, security, cybersecurity, durham, investigation",
          "<b>Topic 15</b><br>Words: flynn, fbi, flynns, prosecutors, sullivan",
          "<b>Topic 15</b><br>Words: flynn, judge, justice department, flynns, dismiss",
          "<b>Topic 15</b><br>Words: flynn, fbi, ratcliffe, justice department, sullivan",
          "<b>Topic 15</b><br>Words: white house, special counsel, records, attorney general, investigation",
          "<b>Topic 15</b><br>Words: white house, records, documents, executive privilege, meadows",
          "<b>Topic 15</b><br>Words: records, archives, national archives, presidential records, justice department",
          "<b>Topic 15</b><br>Words: maralago, fbi, search, former president, classified information",
          "<b>Topic 15</b><br>Words: department, justice, justice department, special master, investigation"
         ],
         "marker": {
          "color": "#56B4E9"
         },
         "mode": "lines",
         "name": "15_trump_mueller_investigation_fbi",
         "type": "scatter",
         "x": [
          "2012-08-08T09:36:00",
          "2012-12-13T10:04:48",
          "2013-04-19T10:33:36",
          "2013-12-29T11:31:12",
          "2014-09-09T12:28:48",
          "2015-01-14T12:57:36",
          "2015-09-25T13:55:12",
          "2016-01-30T14:24:00",
          "2016-06-05T14:52:48",
          "2016-10-10T15:21:36",
          "2017-02-14T15:50:24",
          "2017-06-21T16:19:12",
          "2017-10-26T16:48:00",
          "2018-03-02T17:16:48",
          "2018-07-07T17:45:36",
          "2018-11-11T18:14:24",
          "2019-03-18T18:43:12",
          "2019-07-23T19:12:00",
          "2019-11-27T19:40:48",
          "2020-04-02T20:09:36",
          "2020-08-07T20:38:24",
          "2020-12-12T21:07:12",
          "2021-08-23T22:04:48",
          "2021-12-28T22:33:36",
          "2022-05-04T23:02:24",
          "2022-09-08T23:31:12"
         ],
         "y": [
          1,
          1,
          1,
          1,
          1,
          1,
          1,
          1,
          3,
          14,
          42,
          23,
          23,
          13,
          17,
          13,
          45,
          7,
          8,
          5,
          20,
          12,
          2,
          4,
          14,
          15
         ]
        },
        {
         "hoverinfo": "text",
         "hovertext": [
          "<b>Topic 16</b><br>Words: asma alassad, syria, sunni, al qaeda, shiite",
          "<b>Topic 16</b><br>Words: syrian, damascus, syria, regime, opposition",
          "<b>Topic 16</b><br>Words: turkish, kurdish, pkk, syria, syrian",
          "<b>Topic 16</b><br>Words: iraq, iraq war, saddam, weapons mass destruction, the war aimed",
          "<b>Topic 16</b><br>Words: syrian, weapons, syria, rebels, chemical weapons",
          "<b>Topic 16</b><br>Words: syria, weapons, chemical weapons, syrian, war",
          "<b>Topic 16</b><br>Words: syrian, april 2014, syria, geneva, isis",
          "<b>Topic 16</b><br>Words: isis, iraqi, mosul, iraqs, islamic state",
          "<b>Topic 16</b><br>Words: isis, syria, al, airstrikes, al qaeda",
          "<b>Topic 16</b><br>Words: islamic state group, refugee camp, hell syrias fouryear horror ban, inside camp syrian government forces, horror ban kimoon told",
          "<b>Topic 16</b><br>Words: isis, counterterrorism, terror, cnn, told cnn",
          "<b>Topic 16</b><br>Words: falluja, isis, unesco, iraqi, fallujans",
          "<b>Topic 16</b><br>Words: isis, kurds, assad, iraqi, fighting isis",
          "<b>Topic 16</b><br>Words: aleppo, syrian, eastern aleppo, syrian refugees, hospitals",
          "<b>Topic 16</b><br>Words: syria, syrian, isis, assad, chemical weapons",
          "<b>Topic 16</b><br>Words: syrian, aleppo, ceasefire, syria, truce",
          "<b>Topic 16</b><br>Words: syrian, syria, isis, turkey, turkish",
          "<b>Topic 16</b><br>Words: syrian, ghouta, syria, eastern ghouta, syrian regime",
          "<b>Topic 16</b><br>Words: votel, isis, weapons, votel also said, threat",
          "<b>Topic 16</b><br>Words: isis, syria, mosul, iraq, us troops",
          "<b>Topic 16</b><br>Words: isis, bin laden, laden, baghdadi, syrian",
          "<b>Topic 16</b><br>Words: tripoli, mercenaries, hifters, libya, tripoli forces",
          "<b>Topic 16</b><br>Words: iraq, terrorism, counterterrorism, iraqs, dogs",
          "<b>Topic 16</b><br>Words: turkish, erdogan, turkey, turkeys, syrian",
          "<b>Topic 16</b><br>Words: peshmerga, iraqi, kurdish, us forces, baghdad",
          "<b>Topic 16</b><br>Words: counterterrorism mission conducted us, aftermath counterterrorism mission conducted us, mission conducted us, mission conducted us special operations, counterterrorism mission conducted",
          "<b>Topic 16</b><br>Words: syrian, syria, kurdish, kurdish fighters, syrian kurdish",
          "<b>Topic 16</b><br>Words: syria, turkey, erdogan, ankara, kurdish"
         ],
         "marker": {
          "color": "#009E73"
         },
         "mode": "lines",
         "name": "16_syria_isis_syrian_iraq",
         "type": "scatter",
         "x": [
          "2011-11-28T08:38:24",
          "2012-04-03T09:07:12",
          "2012-08-08T09:36:00",
          "2012-12-13T10:04:48",
          "2013-04-19T10:33:36",
          "2013-08-24T11:02:24",
          "2013-12-29T11:31:12",
          "2014-05-05T12:00:00",
          "2014-09-09T12:28:48",
          "2015-01-14T12:57:36",
          "2015-09-25T13:55:12",
          "2016-01-30T14:24:00",
          "2016-06-05T14:52:48",
          "2016-10-10T15:21:36",
          "2017-02-14T15:50:24",
          "2017-06-21T16:19:12",
          "2017-10-26T16:48:00",
          "2018-03-02T17:16:48",
          "2018-11-11T18:14:24",
          "2019-03-18T18:43:12",
          "2019-07-23T19:12:00",
          "2020-04-02T20:09:36",
          "2020-12-12T21:07:12",
          "2021-04-18T21:36:00",
          "2021-08-23T22:04:48",
          "2021-12-28T22:33:36",
          "2022-05-04T23:02:24",
          "2022-09-08T23:31:12"
         ],
         "y": [
          6,
          8,
          9,
          4,
          6,
          33,
          11,
          50,
          13,
          1,
          3,
          2,
          3,
          5,
          14,
          2,
          41,
          6,
          1,
          2,
          7,
          1,
          6,
          3,
          2,
          5,
          2,
          11
         ]
        },
        {
         "hoverinfo": "text",
         "hovertext": [
          "<b>Topic 17</b><br>Words: jewish, chabad house, the holtzbergs, killed mumbai, funerals",
          "<b>Topic 17</b><br>Words: cnn israeli president, cnn israeli president shimon, gaza onesided unfair, cnn israeli president shimon peres, gaza onesided",
          "<b>Topic 17</b><br>Words: gaza, palestinian, israeli, instruments, music school",
          "<b>Topic 17</b><br>Words: sinai, israeli, gaza, idf, terrorist",
          "<b>Topic 17</b><br>Words: hamas, gaza, israeli, palestinian, palestinians",
          "<b>Topic 17</b><br>Words: netanyahu, prime minister, netanyahus, 2019, 2020 netanyahu",
          "<b>Topic 17</b><br>Words: 1993, 1993 world, 1993 world trade, 1993 world trade center bombing, 1993 world trade center",
          "<b>Topic 17</b><br>Words: israel, gaza, hamas, israeli, jewish",
          "<b>Topic 17</b><br>Words: investigations, un, hamas, war crimes, israeli government",
          "<b>Topic 17</b><br>Words: petah tikva, injured one injured, injured one injured treated hospital, israel east tel aviv emergency, listed lightly injured one",
          "<b>Topic 17</b><br>Words: jerusalem, palestinians, israeli, israel, east jerusalem",
          "<b>Topic 17</b><br>Words: israel, jerusalem capital, israeli, peace process, jerusalem israels capital",
          "<b>Topic 17</b><br>Words: israeli, netanyahus, palestinians, gaza, permit system",
          "<b>Topic 17</b><br>Words: israels, israel, jewish democratic, jewish democratic state, american jewish",
          "<b>Topic 17</b><br>Words: israeli, knesset, netanyahu, hamas, gaza",
          "<b>Topic 17</b><br>Words: netanyahu, israeli, netanyahus, election, benny gantz",
          "<b>Topic 17</b><br>Words: netanyahu, east jerusalem, israeli, palestinians, israel",
          "<b>Topic 17</b><br>Words: israel, palestinian, west bank, bethlehem, palestinian state",
          "<b>Topic 17</b><br>Words: netanyahu, ireland, hume, israeli, northern ireland",
          "<b>Topic 17</b><br>Words: netanyahu, israel, settlements, israeli, west bank",
          "<b>Topic 17</b><br>Words: israel, netanyahu, israeli, palestinians, israels",
          "<b>Topic 17</b><br>Words: israel, israeli, gaza, hamas, palestinian",
          "<b>Topic 17</b><br>Words: israeli, palestinian, gaza, hamas, palestinians",
          "<b>Topic 17</b><br>Words: israel, tel aviv, aviv, palestinian, west bank",
          "<b>Topic 17</b><br>Words: palestinian, occupied west bank, occupied west, abu akleh killed, raid jenin occupied west",
          "<b>Topic 17</b><br>Words: netanyahu, israeli, inflation, bank israel, benjamin netanyahu"
         ],
         "marker": {
          "color": "#F0E442"
         },
         "mode": "lines",
         "name": "17_israel_israeli_gaza_hamas",
         "type": "scatter",
         "x": [
          "2008-10-11T04:19:12",
          "2009-06-22T05:16:48",
          "2011-11-28T08:38:24",
          "2012-04-03T09:07:12",
          "2012-08-08T09:36:00",
          "2012-12-13T10:04:48",
          "2013-08-24T11:02:24",
          "2014-05-05T12:00:00",
          "2014-09-09T12:28:48",
          "2016-10-10T15:21:36",
          "2017-02-14T15:50:24",
          "2017-10-26T16:48:00",
          "2018-03-02T17:16:48",
          "2018-07-07T17:45:36",
          "2018-11-11T18:14:24",
          "2019-03-18T18:43:12",
          "2019-07-23T19:12:00",
          "2019-11-27T19:40:48",
          "2020-04-02T20:09:36",
          "2020-08-07T20:38:24",
          "2020-12-12T21:07:12",
          "2021-04-18T21:36:00",
          "2021-08-23T22:04:48",
          "2021-12-28T22:33:36",
          "2022-05-04T23:02:24",
          "2022-09-08T23:31:12"
         ],
         "y": [
          1,
          1,
          3,
          9,
          58,
          2,
          1,
          4,
          2,
          1,
          1,
          7,
          2,
          1,
          6,
          2,
          5,
          4,
          8,
          14,
          19,
          46,
          10,
          16,
          8,
          24
         ]
        },
        {
         "hoverinfo": "text",
         "hovertext": [
          "<b>Topic 18</b><br>Words: fed, qe3, interest rates, quantitative easing, federal reserve",
          "<b>Topic 18</b><br>Words: losses, central bank, fed officials, housing market, bernanke said",
          "<b>Topic 18</b><br>Words: fed, bernanke, federal reserve, stimulus, bond",
          "<b>Topic 18</b><br>Words: fed, federal reserve, taper, bernanke, summers",
          "<b>Topic 18</b><br>Words: fed, bernanke, bitcoin, strategists, bonds",
          "<b>Topic 18</b><br>Words: fed, rates, interest, time, two words",
          "<b>Topic 18</b><br>Words: rates, wage growth, rate hike, interest rates, raise rates",
          "<b>Topic 18</b><br>Words: fed, rate hike, rates, raise, us economy",
          "<b>Topic 18</b><br>Words: fed, rate hike, us economy, the fed, feds",
          "<b>Topic 18</b><br>Words: moodys, fed, gas prices, republicans win, us economy",
          "<b>Topic 18</b><br>Words: annuity, guaranteed income, interest rates, savings, rates rise",
          "<b>Topic 18</b><br>Words: fed, powell, inflation, yellens, raise",
          "<b>Topic 18</b><br>Words: fed, inflation, said fed, risk powell, the fed",
          "<b>Topic 18</b><br>Words: the fed, policy makers, us economy, central bankers, interest rates",
          "<b>Topic 18</b><br>Words: fed, powell, powells, markets now, interest rates",
          "<b>Topic 18</b><br>Words: fed, powell, cut, economy, interest rates",
          "<b>Topic 18</b><br>Words: recession, us economy, slowing, said powell, inflation",
          "<b>Topic 18</b><br>Words: fed, powell, us economy, rate cut, coronavirus",
          "<b>Topic 18</b><br>Words: powell, powell said, economy, recovery, feds",
          "<b>Topic 18</b><br>Words: fed, yellen, treasury, fed chair, brainard",
          "<b>Topic 18</b><br>Words: inflation, fed, agbal, powell, rates",
          "<b>Topic 18</b><br>Words: inflation, fed, powell, economy, bond purchases",
          "<b>Topic 18</b><br>Words: inflation, fed, central bank, erdogan, rates",
          "<b>Topic 18</b><br>Words: inflation, fed, rates, month, interest",
          "<b>Topic 18</b><br>Words: inflation, fed, powell, high, interest",
          "<b>Topic 18</b><br>Words: inflation, fed, rates, recession, increases"
         ],
         "marker": {
          "color": "#D55E00"
         },
         "mode": "lines",
         "name": "18_fed_inflation_economy_feds",
         "type": "scatter",
         "x": [
          "2012-08-08T09:36:00",
          "2012-12-13T10:04:48",
          "2013-04-19T10:33:36",
          "2013-08-24T11:02:24",
          "2013-12-29T11:31:12",
          "2014-09-09T12:28:48",
          "2015-01-14T12:57:36",
          "2015-05-21T13:26:24",
          "2015-09-25T13:55:12",
          "2016-01-30T14:24:00",
          "2016-06-05T14:52:48",
          "2017-10-26T16:48:00",
          "2018-03-02T17:16:48",
          "2018-07-07T17:45:36",
          "2018-11-11T18:14:24",
          "2019-03-18T18:43:12",
          "2019-07-23T19:12:00",
          "2019-11-27T19:40:48",
          "2020-04-02T20:09:36",
          "2020-08-07T20:38:24",
          "2020-12-12T21:07:12",
          "2021-04-18T21:36:00",
          "2021-08-23T22:04:48",
          "2021-12-28T22:33:36",
          "2022-05-04T23:02:24",
          "2022-09-08T23:31:12"
         ],
         "y": [
          11,
          2,
          15,
          17,
          2,
          3,
          4,
          6,
          7,
          2,
          1,
          8,
          1,
          2,
          5,
          4,
          3,
          4,
          2,
          13,
          9,
          12,
          37,
          22,
          30,
          31
         ]
        },
        {
         "hoverinfo": "text",
         "hovertext": [
          "<b>Topic 19</b><br>Words: infrastructure, roads, transportation, funding, roads bridges",
          "<b>Topic 19</b><br>Words: bridges, deficient bridges, repair, transportation for america, percent deficient",
          "<b>Topic 19</b><br>Words: obama, internet, cedar falls utilities, president noted internet, ahead state union",
          "<b>Topic 19</b><br>Words: highspeed rail, todorovich, national highspeed rail network, national highspeed rail, rail program",
          "<b>Topic 19</b><br>Words: obama, obamas, legacy, final grade, president obamas",
          "<b>Topic 19</b><br>Words: sexual harassment, corker twitter, bill, tax bill, corkers",
          "<b>Topic 19</b><br>Words: corker, tariffs, senate, corker said, corkers",
          "<b>Topic 19</b><br>Words: forest, forest management, emissions, airports, facts first this",
          "<b>Topic 19</b><br>Words: coronavirus, package, health, pelosi, democrats",
          "<b>Topic 19</b><br>Words: senate, proposal, bill, gop, white house",
          "<b>Topic 19</b><br>Words: biden, pelosi, bill, senate, aid",
          "<b>Topic 19</b><br>Words: biden, senate, bill, democrats, pandemic",
          "<b>Topic 19</b><br>Words: democrats, bill, infrastructure, biden, bipartisan",
          "<b>Topic 19</b><br>Words: democrats, bill, biden, trillion, infrastructure",
          "<b>Topic 19</b><br>Words: biden, senate, democrats, tax, voting",
          "<b>Topic 19</b><br>Words: bill, biden, democrats, inflation, senate",
          "<b>Topic 19</b><br>Words: biden, bill, inflation, leavitt, jobs"
         ],
         "marker": {
          "color": "#0072B2"
         },
         "mode": "lines",
         "name": "19_biden_democrats_bill_senate",
         "type": "scatter",
         "x": [
          "2012-12-13T10:04:48",
          "2013-04-19T10:33:36",
          "2014-09-09T12:28:48",
          "2015-01-14T12:57:36",
          "2016-10-10T15:21:36",
          "2017-10-26T16:48:00",
          "2018-03-02T17:16:48",
          "2019-03-18T18:43:12",
          "2019-11-27T19:40:48",
          "2020-04-02T20:09:36",
          "2020-08-07T20:38:24",
          "2020-12-12T21:07:12",
          "2021-04-18T21:36:00",
          "2021-08-23T22:04:48",
          "2021-12-28T22:33:36",
          "2022-05-04T23:02:24",
          "2022-09-08T23:31:12"
         ],
         "y": [
          2,
          1,
          2,
          1,
          2,
          2,
          2,
          3,
          8,
          16,
          19,
          48,
          50,
          46,
          19,
          19,
          12
         ]
        },
        {
         "hoverinfo": "text",
         "hovertext": [
          "<b>Topic 20</b><br>Words: medicare, business jobs act, small business jobs act, jobs act, recovery act",
          "<b>Topic 20</b><br>Words: medicaid, medicare, coverage, premiums, states",
          "<b>Topic 20</b><br>Words: obamacare, medicaid, subsidies, health insurance, aca",
          "<b>Topic 20</b><br>Words: obamacare, insurance, shutdown, uninsured, duffy",
          "<b>Topic 20</b><br>Words: enrollment, federal, obamacare, coverage, data brokers",
          "<b>Topic 20</b><br>Words: obamacare, insurers, coverage, enrollees, health insurance",
          "<b>Topic 20</b><br>Words: insurers, premiums, hhs, obamacare, silver plan",
          "<b>Topic 20</b><br>Words: pillpack, express scripts, scripts, pharmacy, pharmacy new",
          "<b>Topic 20</b><br>Words: health care costs, obamacare, premiums obamacare, obamacare exchanges, price increases",
          "<b>Topic 20</b><br>Words: obamacare, repeal, insurers, republicans, insurance",
          "<b>Topic 20</b><br>Words: obamacare, health care, gop, medicaid, repeal",
          "<b>Topic 20</b><br>Words: obamacare, health care, medicaid, senate bill, health care bill",
          "<b>Topic 20</b><br>Words: amazon, selling prescription, selling prescription drugs, cvs, basic care line",
          "<b>Topic 20</b><br>Words: medicaid, va, expand medicaid, veterans, state",
          "<b>Topic 20</b><br>Words: medicare, drug prices, drug companies, preexisting conditions, republicans",
          "<b>Topic 20</b><br>Words: medicare, health care, sanders, medicare all, health care spending",
          "<b>Topic 20</b><br>Words: medicare, health care, sanders, coverage, obamacare",
          "<b>Topic 20</b><br>Words: medicare, health care, workers, benefits, medicare all",
          "<b>Topic 20</b><br>Words: new hampshire, hampshire, new, biden, tuesday",
          "<b>Topic 20</b><br>Words: coverage, health care, medicaid, obamacare, uninsured",
          "<b>Topic 20</b><br>Words: trump, medicare, health care, affordable care, affordable care act",
          "<b>Topic 20</b><br>Words: medicaid, care, coverage, insurance, federal",
          "<b>Topic 20</b><br>Words: medicaid, enrollment, medicare, insurance, kaiser",
          "<b>Topic 20</b><br>Words: medicare, prescription, medicares, fda, biden",
          "<b>Topic 20</b><br>Words: health emergency, public health emergency, coverage, medicaid recipients, tests treatments",
          "<b>Topic 20</b><br>Words: drugs, medicare, costs, hearing aids, insurance",
          "<b>Topic 20</b><br>Words: medicare, pharmacy, negotiate prices, hearing aids, plans negotiate prices"
         ],
         "marker": {
          "color": "#CC79A7"
         },
         "mode": "lines",
         "name": "20_obamacare_bill_health care_medicaid",
         "type": "scatter",
         "x": [
          "2012-08-08T09:36:00",
          "2012-12-13T10:04:48",
          "2013-04-19T10:33:36",
          "2013-08-24T11:02:24",
          "2014-05-05T12:00:00",
          "2015-05-21T13:26:24",
          "2015-09-25T13:55:12",
          "2016-01-30T14:24:00",
          "2016-06-05T14:52:48",
          "2016-10-10T15:21:36",
          "2017-02-14T15:50:24",
          "2017-06-21T16:19:12",
          "2017-10-26T16:48:00",
          "2018-03-02T17:16:48",
          "2018-07-07T17:45:36",
          "2018-11-11T18:14:24",
          "2019-03-18T18:43:12",
          "2019-07-23T19:12:00",
          "2019-11-27T19:40:48",
          "2020-04-02T20:09:36",
          "2020-08-07T20:38:24",
          "2020-12-12T21:07:12",
          "2021-04-18T21:36:00",
          "2021-08-23T22:04:48",
          "2021-12-28T22:33:36",
          "2022-05-04T23:02:24",
          "2022-09-08T23:31:12"
         ],
         "y": [
          6,
          7,
          16,
          3,
          5,
          5,
          2,
          1,
          1,
          35,
          52,
          25,
          1,
          2,
          1,
          6,
          18,
          6,
          4,
          6,
          13,
          8,
          3,
          5,
          1,
          5,
          8
         ]
        },
        {
         "hoverinfo": "text",
         "hovertext": [
          "<b>Topic 21</b><br>Words: islands, japan, diaoyu, china sea, japans",
          "<b>Topic 21</b><br>Words: medvedev, davos, corruption, investment russia, world economic forum",
          "<b>Topic 21</b><br>Words: china sea, south china sea, south china, disputes, islands",
          "<b>Topic 21</b><br>Words: south china sea, south china, china sea, philippines, tribunal",
          "<b>Topic 21</b><br>Words: islands, china sea, south china, south china sea, sea",
          "<b>Topic 21</b><br>Words: china, chinas, china sea, south china, south china sea",
          "<b>Topic 21</b><br>Words: china, south china, sea, china sea, chinas",
          "<b>Topic 21</b><br>Words: chinas, relations, arms sales, us sanctions, the chinese",
          "<b>Topic 21</b><br>Words: taiwans, philippine, boat, islands, landing",
          "<b>Topic 21</b><br>Words: hong kong, visits hong kong, port visits hong kong, port visits hong, uss lake erie",
          "<b>Topic 21</b><br>Words: resolution, internment camps, internment, discriminating japanese americans, sato said",
          "<b>Topic 21</b><br>Words: wolf warrior, chinese, china, diplomacy, zhao",
          "<b>Topic 21</b><br>Words: taiwan, china, beijing, relations, taipei",
          "<b>Topic 21</b><br>Words: china, taiwan, biden, chinas, chinese",
          "<b>Topic 21</b><br>Words: china, new zealand, five eyes, chinese, taiwan",
          "<b>Topic 21</b><br>Words: taiwan, biden, chinese, taiwans, chinas",
          "<b>Topic 21</b><br>Words: islands, solomon islands, chinese, pacific, taiwan",
          "<b>Topic 21</b><br>Words: taiwan, chinese, military, beijing, chinas",
          "<b>Topic 21</b><br>Words: taiwan, islands, chinese, chinas, pacific"
         ],
         "marker": {
          "color": "#E69F00"
         },
         "mode": "lines",
         "name": "21_taiwan_chinese_islands_chinas",
         "type": "scatter",
         "x": [
          "2012-08-08T09:36:00",
          "2012-12-13T10:04:48",
          "2014-09-09T12:28:48",
          "2016-06-05T14:52:48",
          "2016-10-10T15:21:36",
          "2017-02-14T15:50:24",
          "2017-06-21T16:19:12",
          "2018-07-07T17:45:36",
          "2019-03-18T18:43:12",
          "2019-07-23T19:12:00",
          "2019-11-27T19:40:48",
          "2020-04-02T20:09:36",
          "2020-08-07T20:38:24",
          "2020-12-12T21:07:12",
          "2021-04-18T21:36:00",
          "2021-08-23T22:04:48",
          "2021-12-28T22:33:36",
          "2022-05-04T23:02:24",
          "2022-09-08T23:31:12"
         ],
         "y": [
          16,
          1,
          3,
          2,
          11,
          4,
          10,
          1,
          2,
          1,
          1,
          2,
          3,
          22,
          9,
          36,
          31,
          53,
          32
         ]
        },
        {
         "hoverinfo": "text",
         "hovertext": [
          "<b>Topic 22</b><br>Words: abortion, abortions, republican, supreme court, march life",
          "<b>Topic 22</b><br>Words: mccrory, justice measures, the bill, waiting periods, plans sign",
          "<b>Topic 22</b><br>Words: abortion, medication abortion, ohio north dakota texas, accordance new label, smaller dose",
          "<b>Topic 22</b><br>Words: reid said, block bill could, democrats decided block bill, democrats decided block, decided block bill could help",
          "<b>Topic 22</b><br>Words: mccorvey, planned parenthood, abortion, parenthood, womens health",
          "<b>Topic 22</b><br>Words: birth control, abortion, illinois, abortions, contraceptives",
          "<b>Topic 22</b><br>Words: abortion, iowa, legislation, roe, equal rights",
          "<b>Topic 22</b><br>Words: heartbeat, heartbeat bill, abortion, supreme court, fetal heartbeat",
          "<b>Topic 22</b><br>Words: abortion, abortions, ban, georgia, hyde amendment",
          "<b>Topic 22</b><br>Words: missouri, abortions eight, petition referendum, abortions eight weeks, abortions eight weeks pregnancy",
          "<b>Topic 22</b><br>Words: abortion, bill, abortions, fetal tissue, fetal",
          "<b>Topic 22</b><br>Words: abortion, louisiana, abortion rights, roberts, justices",
          "<b>Topic 22</b><br>Words: vote, barrett wrote, supreme court, wisconsin, judge",
          "<b>Topic 22</b><br>Words: abortion, abortions, bill, arkansas, planned parenthood",
          "<b>Topic 22</b><br>Words: abortion, supreme court, courts, mississippi, abortions",
          "<b>Topic 22</b><br>Words: abortion, texas, abortions, roe, supreme court",
          "<b>Topic 22</b><br>Words: abortion, abortions, supreme court, roe, oklahoma",
          "<b>Topic 22</b><br>Words: abortion, abortions, roe, pregnancy, supreme court",
          "<b>Topic 22</b><br>Words: abortion, abortions, supreme court, rights, abortion rights"
         ],
         "marker": {
          "color": "#56B4E9"
         },
         "mode": "lines",
         "name": "22_abortion_abortions_roe_supreme court",
         "type": "scatter",
         "x": [
          "2013-12-29T11:31:12",
          "2015-05-21T13:26:24",
          "2016-01-30T14:24:00",
          "2016-06-05T14:52:48",
          "2017-02-14T15:50:24",
          "2017-06-21T16:19:12",
          "2018-03-02T17:16:48",
          "2018-11-11T18:14:24",
          "2019-03-18T18:43:12",
          "2019-07-23T19:12:00",
          "2019-11-27T19:40:48",
          "2020-04-02T20:09:36",
          "2020-08-07T20:38:24",
          "2020-12-12T21:07:12",
          "2021-04-18T21:36:00",
          "2021-08-23T22:04:48",
          "2021-12-28T22:33:36",
          "2022-05-04T23:02:24",
          "2022-09-08T23:31:12"
         ],
         "y": [
          2,
          1,
          1,
          1,
          3,
          4,
          3,
          3,
          6,
          1,
          3,
          5,
          6,
          10,
          11,
          42,
          29,
          77,
          23
         ]
        },
        {
         "hoverinfo": "text",
         "hovertext": [
          "<b>Topic 23</b><br>Words: garcia, championship, he told living, living golf, sergio garcia",
          "<b>Topic 23</b><br>Words: yang, yongeun tigerslayer the korean golfer, golfer stunned world beating tiger, golf korea international spotlight unlike, golf korea international spotlight",
          "<b>Topic 23</b><br>Words: augusta, augusta national, orlando, woods, sea world",
          "<b>Topic 23</b><br>Words: ryder cup, ryder, golf, mcilroy, montgomerie",
          "<b>Topic 23</b><br>Words: ryu, klpga, golfer, tournament, ryu says",
          "<b>Topic 23</b><br>Words: golfs, golfs biggest, several younger players, callaways, years masters",
          "<b>Topic 23</b><br>Words: golf, mcilroy, youngest, youngest player, tournament",
          "<b>Topic 23</b><br>Words: woods, golf, tiger woods, mickelson, pga",
          "<b>Topic 23</b><br>Words: golf, tiger woods, masters, tournament, tour",
          "<b>Topic 23</b><br>Words: tiger, mcilroy, masters, us open, ben hogan",
          "<b>Topic 23</b><br>Words: golfer, tiger woods, trendsetting, relationship, lindsey vonn",
          "<b>Topic 23</b><br>Words: masters, woods, tiger, foster, golf",
          "<b>Topic 23</b><br>Words: ryder, ryder cup, golf, watson, palmer",
          "<b>Topic 23</b><br>Words: woods, golf, cup, tour, koreans",
          "<b>Topic 23</b><br>Words: garcia, masters, 1630 jun, dustin johnson, tournament",
          "<b>Topic 23</b><br>Words: golf, nicklaus, pga, woods, grand slam",
          "<b>Topic 23</b><br>Words: the open pga, open the open pga, masters us open the, masters us open the open, the masters us open the",
          "<b>Topic 23</b><br>Words: mickelson, golf, woods, pga, pga tour",
          "<b>Topic 23</b><br>Words: ryder, ryder cup, cup, golf, tiger woods",
          "<b>Topic 23</b><br>Words: golf, tiger woods, public golf course, tigers, chicago parks golf alliance",
          "<b>Topic 23</b><br>Words: masters, tiger, nicklaus, tiger woods, golfs",
          "<b>Topic 23</b><br>Words: whitworth, golfer, nicklaus, tournaments, 1973 colgatedinah shore winners circle",
          "<b>Topic 23</b><br>Words: rahm, golf, pga, tee times, green",
          "<b>Topic 23</b><br>Words: masters, augusta national, honorary, scholarship, womens golf program",
          "<b>Topic 23</b><br>Words: woods, masters, pga, pga tour, first black man",
          "<b>Topic 23</b><br>Words: daly, putts, woods said, golf, shot 57",
          "<b>Topic 23</b><br>Words: woods, round, mickelson, golf, practice round april",
          "<b>Topic 23</b><br>Words: pga, pga tour, golf, lpga, meronk"
         ],
         "marker": {
          "color": "#009E73"
         },
         "mode": "lines",
         "name": "23_golf_masters_pga_ryder",
         "type": "scatter",
         "x": [
          "2008-10-11T04:19:12",
          "2009-06-22T05:16:48",
          "2012-04-03T09:07:12",
          "2012-08-08T09:36:00",
          "2013-04-19T10:33:36",
          "2013-12-29T11:31:12",
          "2014-05-05T12:00:00",
          "2014-09-09T12:28:48",
          "2015-01-14T12:57:36",
          "2015-05-21T13:26:24",
          "2015-09-25T13:55:12",
          "2016-01-30T14:24:00",
          "2016-06-05T14:52:48",
          "2016-10-10T15:21:36",
          "2017-02-14T15:50:24",
          "2017-06-21T16:19:12",
          "2017-10-26T16:48:00",
          "2018-03-02T17:16:48",
          "2018-07-07T17:45:36",
          "2018-11-11T18:14:24",
          "2019-03-18T18:43:12",
          "2019-11-27T19:40:48",
          "2020-04-02T20:09:36",
          "2020-08-07T20:38:24",
          "2020-12-12T21:07:12",
          "2021-08-23T22:04:48",
          "2021-12-28T22:33:36",
          "2022-09-08T23:31:12"
         ],
         "y": [
          1,
          2,
          1,
          45,
          1,
          1,
          5,
          55,
          21,
          5,
          2,
          12,
          11,
          5,
          2,
          15,
          1,
          7,
          9,
          2,
          2,
          3,
          2,
          1,
          3,
          1,
          7,
          8
         ]
        },
        {
         "hoverinfo": "text",
         "hovertext": [
          "<b>Topic 24</b><br>Words: lebens shares said, lebens shares, lebens shares said would offer, lebens minority shareholders, lebens minority shareholders become possible",
          "<b>Topic 24</b><br>Words: nike, nikes, chuck taylor, ralph lauren, converses",
          "<b>Topic 24</b><br>Words: nike, nikes, million, college athletic departments, michigans",
          "<b>Topic 24</b><br>Words: deutsche boerse, stock exchange, per share, gained 27 since deutsche boerse, france netherlands shares lse",
          "<b>Topic 24</b><br>Words: nike, under armour, adidas, rival, line shoes",
          "<b>Topic 24</b><br>Words: kaepernick, sales, nike wants, last quarter compared year, last quarter compared year earlier",
          "<b>Topic 24</b><br>Words: reuters, insights global finance covid19, breakingviews concise insights global finance, concise insights global finance covid19, global finance covid19",
          "<b>Topic 24</b><br>Words: reuters, capital, year offset, concise insights global, standards fast retailing owner",
          "<b>Topic 24</b><br>Words: billion, reuters, investors, global, equity",
          "<b>Topic 24</b><br>Words: reuters, reuters breakingviews, calls more concise insights, calls more concise insights global, more concise insights global",
          "<b>Topic 24</b><br>Words: reuters, reuters breakingviews, peltz, nike, 2022 reuters",
          "<b>Topic 24</b><br>Words: reuters, billion, company, 2022 reuters, global"
         ],
         "marker": {
          "color": "#F0E442"
         },
         "mode": "lines",
         "name": "24_reuters_billion_reuters breakingviews...",
         "type": "scatter",
         "x": [
          "2007-09-26T02:52:48",
          "2015-01-14T12:57:36",
          "2015-05-21T13:26:24",
          "2016-01-30T14:24:00",
          "2017-06-21T16:19:12",
          "2018-07-07T17:45:36",
          "2020-12-12T21:07:12",
          "2021-04-18T21:36:00",
          "2021-08-23T22:04:48",
          "2021-12-28T22:33:36",
          "2022-05-04T23:02:24",
          "2022-09-08T23:31:12"
         ],
         "y": [
          1,
          1,
          1,
          1,
          1,
          1,
          29,
          53,
          31,
          30,
          29,
          50
         ]
        }
       ],
       "layout": {
        "height": 450,
        "hoverlabel": {
         "bgcolor": "white",
         "font": {
          "family": "Rockwell",
          "size": 16
         }
        },
        "legend": {
         "title": {
          "text": "<b>Global Topic Representation"
         }
        },
        "template": {
         "data": {
          "bar": [
           {
            "error_x": {
             "color": "rgb(36,36,36)"
            },
            "error_y": {
             "color": "rgb(36,36,36)"
            },
            "marker": {
             "line": {
              "color": "white",
              "width": 0.5
             },
             "pattern": {
              "fillmode": "overlay",
              "size": 10,
              "solidity": 0.2
             }
            },
            "type": "bar"
           }
          ],
          "barpolar": [
           {
            "marker": {
             "line": {
              "color": "white",
              "width": 0.5
             },
             "pattern": {
              "fillmode": "overlay",
              "size": 10,
              "solidity": 0.2
             }
            },
            "type": "barpolar"
           }
          ],
          "carpet": [
           {
            "aaxis": {
             "endlinecolor": "rgb(36,36,36)",
             "gridcolor": "white",
             "linecolor": "white",
             "minorgridcolor": "white",
             "startlinecolor": "rgb(36,36,36)"
            },
            "baxis": {
             "endlinecolor": "rgb(36,36,36)",
             "gridcolor": "white",
             "linecolor": "white",
             "minorgridcolor": "white",
             "startlinecolor": "rgb(36,36,36)"
            },
            "type": "carpet"
           }
          ],
          "choropleth": [
           {
            "colorbar": {
             "outlinewidth": 1,
             "tickcolor": "rgb(36,36,36)",
             "ticks": "outside"
            },
            "type": "choropleth"
           }
          ],
          "contour": [
           {
            "colorbar": {
             "outlinewidth": 1,
             "tickcolor": "rgb(36,36,36)",
             "ticks": "outside"
            },
            "colorscale": [
             [
              0,
              "#440154"
             ],
             [
              0.1111111111111111,
              "#482878"
             ],
             [
              0.2222222222222222,
              "#3e4989"
             ],
             [
              0.3333333333333333,
              "#31688e"
             ],
             [
              0.4444444444444444,
              "#26828e"
             ],
             [
              0.5555555555555556,
              "#1f9e89"
             ],
             [
              0.6666666666666666,
              "#35b779"
             ],
             [
              0.7777777777777778,
              "#6ece58"
             ],
             [
              0.8888888888888888,
              "#b5de2b"
             ],
             [
              1,
              "#fde725"
             ]
            ],
            "type": "contour"
           }
          ],
          "contourcarpet": [
           {
            "colorbar": {
             "outlinewidth": 1,
             "tickcolor": "rgb(36,36,36)",
             "ticks": "outside"
            },
            "type": "contourcarpet"
           }
          ],
          "heatmap": [
           {
            "colorbar": {
             "outlinewidth": 1,
             "tickcolor": "rgb(36,36,36)",
             "ticks": "outside"
            },
            "colorscale": [
             [
              0,
              "#440154"
             ],
             [
              0.1111111111111111,
              "#482878"
             ],
             [
              0.2222222222222222,
              "#3e4989"
             ],
             [
              0.3333333333333333,
              "#31688e"
             ],
             [
              0.4444444444444444,
              "#26828e"
             ],
             [
              0.5555555555555556,
              "#1f9e89"
             ],
             [
              0.6666666666666666,
              "#35b779"
             ],
             [
              0.7777777777777778,
              "#6ece58"
             ],
             [
              0.8888888888888888,
              "#b5de2b"
             ],
             [
              1,
              "#fde725"
             ]
            ],
            "type": "heatmap"
           }
          ],
          "heatmapgl": [
           {
            "colorbar": {
             "outlinewidth": 1,
             "tickcolor": "rgb(36,36,36)",
             "ticks": "outside"
            },
            "colorscale": [
             [
              0,
              "#440154"
             ],
             [
              0.1111111111111111,
              "#482878"
             ],
             [
              0.2222222222222222,
              "#3e4989"
             ],
             [
              0.3333333333333333,
              "#31688e"
             ],
             [
              0.4444444444444444,
              "#26828e"
             ],
             [
              0.5555555555555556,
              "#1f9e89"
             ],
             [
              0.6666666666666666,
              "#35b779"
             ],
             [
              0.7777777777777778,
              "#6ece58"
             ],
             [
              0.8888888888888888,
              "#b5de2b"
             ],
             [
              1,
              "#fde725"
             ]
            ],
            "type": "heatmapgl"
           }
          ],
          "histogram": [
           {
            "marker": {
             "line": {
              "color": "white",
              "width": 0.6
             }
            },
            "type": "histogram"
           }
          ],
          "histogram2d": [
           {
            "colorbar": {
             "outlinewidth": 1,
             "tickcolor": "rgb(36,36,36)",
             "ticks": "outside"
            },
            "colorscale": [
             [
              0,
              "#440154"
             ],
             [
              0.1111111111111111,
              "#482878"
             ],
             [
              0.2222222222222222,
              "#3e4989"
             ],
             [
              0.3333333333333333,
              "#31688e"
             ],
             [
              0.4444444444444444,
              "#26828e"
             ],
             [
              0.5555555555555556,
              "#1f9e89"
             ],
             [
              0.6666666666666666,
              "#35b779"
             ],
             [
              0.7777777777777778,
              "#6ece58"
             ],
             [
              0.8888888888888888,
              "#b5de2b"
             ],
             [
              1,
              "#fde725"
             ]
            ],
            "type": "histogram2d"
           }
          ],
          "histogram2dcontour": [
           {
            "colorbar": {
             "outlinewidth": 1,
             "tickcolor": "rgb(36,36,36)",
             "ticks": "outside"
            },
            "colorscale": [
             [
              0,
              "#440154"
             ],
             [
              0.1111111111111111,
              "#482878"
             ],
             [
              0.2222222222222222,
              "#3e4989"
             ],
             [
              0.3333333333333333,
              "#31688e"
             ],
             [
              0.4444444444444444,
              "#26828e"
             ],
             [
              0.5555555555555556,
              "#1f9e89"
             ],
             [
              0.6666666666666666,
              "#35b779"
             ],
             [
              0.7777777777777778,
              "#6ece58"
             ],
             [
              0.8888888888888888,
              "#b5de2b"
             ],
             [
              1,
              "#fde725"
             ]
            ],
            "type": "histogram2dcontour"
           }
          ],
          "mesh3d": [
           {
            "colorbar": {
             "outlinewidth": 1,
             "tickcolor": "rgb(36,36,36)",
             "ticks": "outside"
            },
            "type": "mesh3d"
           }
          ],
          "parcoords": [
           {
            "line": {
             "colorbar": {
              "outlinewidth": 1,
              "tickcolor": "rgb(36,36,36)",
              "ticks": "outside"
             }
            },
            "type": "parcoords"
           }
          ],
          "pie": [
           {
            "automargin": true,
            "type": "pie"
           }
          ],
          "scatter": [
           {
            "fillpattern": {
             "fillmode": "overlay",
             "size": 10,
             "solidity": 0.2
            },
            "type": "scatter"
           }
          ],
          "scatter3d": [
           {
            "line": {
             "colorbar": {
              "outlinewidth": 1,
              "tickcolor": "rgb(36,36,36)",
              "ticks": "outside"
             }
            },
            "marker": {
             "colorbar": {
              "outlinewidth": 1,
              "tickcolor": "rgb(36,36,36)",
              "ticks": "outside"
             }
            },
            "type": "scatter3d"
           }
          ],
          "scattercarpet": [
           {
            "marker": {
             "colorbar": {
              "outlinewidth": 1,
              "tickcolor": "rgb(36,36,36)",
              "ticks": "outside"
             }
            },
            "type": "scattercarpet"
           }
          ],
          "scattergeo": [
           {
            "marker": {
             "colorbar": {
              "outlinewidth": 1,
              "tickcolor": "rgb(36,36,36)",
              "ticks": "outside"
             }
            },
            "type": "scattergeo"
           }
          ],
          "scattergl": [
           {
            "marker": {
             "colorbar": {
              "outlinewidth": 1,
              "tickcolor": "rgb(36,36,36)",
              "ticks": "outside"
             }
            },
            "type": "scattergl"
           }
          ],
          "scattermapbox": [
           {
            "marker": {
             "colorbar": {
              "outlinewidth": 1,
              "tickcolor": "rgb(36,36,36)",
              "ticks": "outside"
             }
            },
            "type": "scattermapbox"
           }
          ],
          "scatterpolar": [
           {
            "marker": {
             "colorbar": {
              "outlinewidth": 1,
              "tickcolor": "rgb(36,36,36)",
              "ticks": "outside"
             }
            },
            "type": "scatterpolar"
           }
          ],
          "scatterpolargl": [
           {
            "marker": {
             "colorbar": {
              "outlinewidth": 1,
              "tickcolor": "rgb(36,36,36)",
              "ticks": "outside"
             }
            },
            "type": "scatterpolargl"
           }
          ],
          "scatterternary": [
           {
            "marker": {
             "colorbar": {
              "outlinewidth": 1,
              "tickcolor": "rgb(36,36,36)",
              "ticks": "outside"
             }
            },
            "type": "scatterternary"
           }
          ],
          "surface": [
           {
            "colorbar": {
             "outlinewidth": 1,
             "tickcolor": "rgb(36,36,36)",
             "ticks": "outside"
            },
            "colorscale": [
             [
              0,
              "#440154"
             ],
             [
              0.1111111111111111,
              "#482878"
             ],
             [
              0.2222222222222222,
              "#3e4989"
             ],
             [
              0.3333333333333333,
              "#31688e"
             ],
             [
              0.4444444444444444,
              "#26828e"
             ],
             [
              0.5555555555555556,
              "#1f9e89"
             ],
             [
              0.6666666666666666,
              "#35b779"
             ],
             [
              0.7777777777777778,
              "#6ece58"
             ],
             [
              0.8888888888888888,
              "#b5de2b"
             ],
             [
              1,
              "#fde725"
             ]
            ],
            "type": "surface"
           }
          ],
          "table": [
           {
            "cells": {
             "fill": {
              "color": "rgb(237,237,237)"
             },
             "line": {
              "color": "white"
             }
            },
            "header": {
             "fill": {
              "color": "rgb(217,217,217)"
             },
             "line": {
              "color": "white"
             }
            },
            "type": "table"
           }
          ]
         },
         "layout": {
          "annotationdefaults": {
           "arrowhead": 0,
           "arrowwidth": 1
          },
          "autotypenumbers": "strict",
          "coloraxis": {
           "colorbar": {
            "outlinewidth": 1,
            "tickcolor": "rgb(36,36,36)",
            "ticks": "outside"
           }
          },
          "colorscale": {
           "diverging": [
            [
             0,
             "rgb(103,0,31)"
            ],
            [
             0.1,
             "rgb(178,24,43)"
            ],
            [
             0.2,
             "rgb(214,96,77)"
            ],
            [
             0.3,
             "rgb(244,165,130)"
            ],
            [
             0.4,
             "rgb(253,219,199)"
            ],
            [
             0.5,
             "rgb(247,247,247)"
            ],
            [
             0.6,
             "rgb(209,229,240)"
            ],
            [
             0.7,
             "rgb(146,197,222)"
            ],
            [
             0.8,
             "rgb(67,147,195)"
            ],
            [
             0.9,
             "rgb(33,102,172)"
            ],
            [
             1,
             "rgb(5,48,97)"
            ]
           ],
           "sequential": [
            [
             0,
             "#440154"
            ],
            [
             0.1111111111111111,
             "#482878"
            ],
            [
             0.2222222222222222,
             "#3e4989"
            ],
            [
             0.3333333333333333,
             "#31688e"
            ],
            [
             0.4444444444444444,
             "#26828e"
            ],
            [
             0.5555555555555556,
             "#1f9e89"
            ],
            [
             0.6666666666666666,
             "#35b779"
            ],
            [
             0.7777777777777778,
             "#6ece58"
            ],
            [
             0.8888888888888888,
             "#b5de2b"
            ],
            [
             1,
             "#fde725"
            ]
           ],
           "sequentialminus": [
            [
             0,
             "#440154"
            ],
            [
             0.1111111111111111,
             "#482878"
            ],
            [
             0.2222222222222222,
             "#3e4989"
            ],
            [
             0.3333333333333333,
             "#31688e"
            ],
            [
             0.4444444444444444,
             "#26828e"
            ],
            [
             0.5555555555555556,
             "#1f9e89"
            ],
            [
             0.6666666666666666,
             "#35b779"
            ],
            [
             0.7777777777777778,
             "#6ece58"
            ],
            [
             0.8888888888888888,
             "#b5de2b"
            ],
            [
             1,
             "#fde725"
            ]
           ]
          },
          "colorway": [
           "#1F77B4",
           "#FF7F0E",
           "#2CA02C",
           "#D62728",
           "#9467BD",
           "#8C564B",
           "#E377C2",
           "#7F7F7F",
           "#BCBD22",
           "#17BECF"
          ],
          "font": {
           "color": "rgb(36,36,36)"
          },
          "geo": {
           "bgcolor": "white",
           "lakecolor": "white",
           "landcolor": "white",
           "showlakes": true,
           "showland": true,
           "subunitcolor": "white"
          },
          "hoverlabel": {
           "align": "left"
          },
          "hovermode": "closest",
          "mapbox": {
           "style": "light"
          },
          "paper_bgcolor": "white",
          "plot_bgcolor": "white",
          "polar": {
           "angularaxis": {
            "gridcolor": "rgb(232,232,232)",
            "linecolor": "rgb(36,36,36)",
            "showgrid": false,
            "showline": true,
            "ticks": "outside"
           },
           "bgcolor": "white",
           "radialaxis": {
            "gridcolor": "rgb(232,232,232)",
            "linecolor": "rgb(36,36,36)",
            "showgrid": false,
            "showline": true,
            "ticks": "outside"
           }
          },
          "scene": {
           "xaxis": {
            "backgroundcolor": "white",
            "gridcolor": "rgb(232,232,232)",
            "gridwidth": 2,
            "linecolor": "rgb(36,36,36)",
            "showbackground": true,
            "showgrid": false,
            "showline": true,
            "ticks": "outside",
            "zeroline": false,
            "zerolinecolor": "rgb(36,36,36)"
           },
           "yaxis": {
            "backgroundcolor": "white",
            "gridcolor": "rgb(232,232,232)",
            "gridwidth": 2,
            "linecolor": "rgb(36,36,36)",
            "showbackground": true,
            "showgrid": false,
            "showline": true,
            "ticks": "outside",
            "zeroline": false,
            "zerolinecolor": "rgb(36,36,36)"
           },
           "zaxis": {
            "backgroundcolor": "white",
            "gridcolor": "rgb(232,232,232)",
            "gridwidth": 2,
            "linecolor": "rgb(36,36,36)",
            "showbackground": true,
            "showgrid": false,
            "showline": true,
            "ticks": "outside",
            "zeroline": false,
            "zerolinecolor": "rgb(36,36,36)"
           }
          },
          "shapedefaults": {
           "fillcolor": "black",
           "line": {
            "width": 0
           },
           "opacity": 0.3
          },
          "ternary": {
           "aaxis": {
            "gridcolor": "rgb(232,232,232)",
            "linecolor": "rgb(36,36,36)",
            "showgrid": false,
            "showline": true,
            "ticks": "outside"
           },
           "baxis": {
            "gridcolor": "rgb(232,232,232)",
            "linecolor": "rgb(36,36,36)",
            "showgrid": false,
            "showline": true,
            "ticks": "outside"
           },
           "bgcolor": "white",
           "caxis": {
            "gridcolor": "rgb(232,232,232)",
            "linecolor": "rgb(36,36,36)",
            "showgrid": false,
            "showline": true,
            "ticks": "outside"
           }
          },
          "title": {
           "x": 0.05
          },
          "xaxis": {
           "automargin": true,
           "gridcolor": "rgb(232,232,232)",
           "linecolor": "rgb(36,36,36)",
           "showgrid": false,
           "showline": true,
           "ticks": "outside",
           "title": {
            "standoff": 15
           },
           "zeroline": false,
           "zerolinecolor": "rgb(36,36,36)"
          },
          "yaxis": {
           "automargin": true,
           "gridcolor": "rgb(232,232,232)",
           "linecolor": "rgb(36,36,36)",
           "showgrid": false,
           "showline": true,
           "ticks": "outside",
           "title": {
            "standoff": 15
           },
           "zeroline": false,
           "zerolinecolor": "rgb(36,36,36)"
          }
         }
        },
        "title": {
         "font": {
          "color": "Black",
          "size": 22
         },
         "text": "<b>Topics over Time",
         "x": 0.4,
         "xanchor": "center",
         "y": 0.95,
         "yanchor": "top"
        },
        "width": 1250,
        "xaxis": {
         "showgrid": true
        },
        "yaxis": {
         "showgrid": true,
         "title": {
          "text": "Frequency"
         }
        }
       }
      }
     },
     "metadata": {},
     "output_type": "display_data"
    }
   ],
   "source": [
    "topics_all_corpus_over_time_fig = topic_model_all_corpus.visualize_topics_over_time(topics_all_corpus_over_time)\n",
    "topics_all_corpus_over_time_fig.show()"
   ]
  },
  {
   "cell_type": "code",
   "execution_count": null,
   "metadata": {},
   "outputs": [],
   "source": []
  }
 ],
 "metadata": {
  "kernelspec": {
   "display_name": "NLP",
   "language": "python",
   "name": "python3"
  },
  "language_info": {
   "codemirror_mode": {
    "name": "ipython",
    "version": 3
   },
   "file_extension": ".py",
   "mimetype": "text/x-python",
   "name": "python",
   "nbconvert_exporter": "python",
   "pygments_lexer": "ipython3",
   "version": "3.10.8"
  },
  "orig_nbformat": 4,
  "vscode": {
   "interpreter": {
    "hash": "c274800a644369232b07ff88d34bb48e0bcbdfb00a7df1bd3c4bdb1571cc2cb5"
   }
  }
 },
 "nbformat": 4,
 "nbformat_minor": 2
}
